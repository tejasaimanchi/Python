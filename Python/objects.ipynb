{
 "cells": [
  {
   "cell_type": "code",
   "execution_count": 2,
   "id": "6ea0186a",
   "metadata": {},
   "outputs": [
    {
     "name": "stdout",
     "output_type": "stream",
     "text": [
      "5\n"
     ]
    }
   ],
   "source": [
    "class MyClass:\n",
    "    x=5\n",
    "    print(x)"
   ]
  },
  {
   "cell_type": "code",
   "execution_count": 3,
   "id": "07cbc65b",
   "metadata": {},
   "outputs": [
    {
     "name": "stdout",
     "output_type": "stream",
     "text": [
      "5\n"
     ]
    }
   ],
   "source": [
    "p1=MyClass()\n",
    "print(p1.x)"
   ]
  },
  {
   "cell_type": "code",
   "execution_count": 1,
   "id": "9defbeb4",
   "metadata": {},
   "outputs": [
    {
     "name": "stdout",
     "output_type": "stream",
     "text": [
      "teja\n",
      "21\n",
      "<__main__.person object at 0x000002576E05D790>\n"
     ]
    }
   ],
   "source": [
    "#The __init__() Function\n",
    "class person:\n",
    "    def __init__(self,name,age):\n",
    "        self.name=name\n",
    "        self.age=age\n",
    "p1=person(\"teja\",\"21\")\n",
    "print(p1.name)\n",
    "print(p1.age)\n",
    "print(p1)"
   ]
  },
  {
   "cell_type": "code",
   "execution_count": 18,
   "id": "c27e70e8",
   "metadata": {},
   "outputs": [
    {
     "name": "stdout",
     "output_type": "stream",
     "text": [
      "coursename1: java Marks: 80\n",
      "dbms 50\n",
      "sql 60\n",
      "python 70\n",
      "linux 30\n"
     ]
    }
   ],
   "source": [
    "class course:\n",
    "    def __init__(self,coursename,marks):\n",
    "        self.coursename=coursename\n",
    "        self.marks=marks\n",
    "c1=course(\"java\",80)\n",
    "c2=course(\"dbms\",50)\n",
    "c3=course(\"sql\",60)\n",
    "c4=course(\"python\",70)\n",
    "c5=course(\"linux\",30)\n",
    "print(\"coursename1:\",c1.coursename, \"Marks:\", c1.marks)\n",
    "print(c2.coursename,c2.marks)\n",
    "print(c3.coursename,c3.marks)\n",
    "print(c4.coursename,c4.marks)\n",
    "print(c5.coursename,c5.marks)"
   ]
  },
  {
   "cell_type": "code",
   "execution_count": 21,
   "id": "dc3fdfd0",
   "metadata": {},
   "outputs": [
    {
     "name": "stdout",
     "output_type": "stream",
     "text": [
      "course: java Marks: 80\n",
      "course: dbms Marks: 50\n",
      "course: sql Marks: 60\n",
      "course: python Marks: 70\n",
      "course: linux Marks: 30\n"
     ]
    }
   ],
   "source": [
    "class course:\n",
    "    def __init__(self,coursename,marks):\n",
    "        self.coursename=coursename\n",
    "        self.marks=marks\n",
    "courses=[\n",
    "course(\"java\",80),\n",
    "course(\"dbms\",50),\n",
    "course(\"sql\",60),\n",
    "course(\"python\",70),\n",
    "course(\"linux\",30)]\n",
    "for course in courses:\n",
    "    print(\"course:\", course.coursename, \"Marks:\", course.marks)"
   ]
  },
  {
   "cell_type": "code",
   "execution_count": 3,
   "id": "2326c0c1",
   "metadata": {},
   "outputs": [
    {
     "name": "stdout",
     "output_type": "stream",
     "text": [
      "teja\n",
      "21\n",
      "teja 21\n"
     ]
    }
   ],
   "source": [
    "#The __str__() Function\n",
    "class person:\n",
    "    def __init__(self,name,age):\n",
    "        self.name=name\n",
    "        self.age=age\n",
    "    def __str__(self):\n",
    "        return f\"{self.name} {self.age}\"\n",
    "p1=person(\"teja\",\"21\")\n",
    "print(p1.name)\n",
    "print(p1.age)\n",
    "print(p1)"
   ]
  },
  {
   "cell_type": "code",
   "execution_count": 7,
   "id": "a24878d7",
   "metadata": {},
   "outputs": [
    {
     "name": "stdout",
     "output_type": "stream",
     "text": [
      "hello my name is John\n",
      "my age is  36\n"
     ]
    }
   ],
   "source": [
    "#Object Methods\n",
    "class person:\n",
    "    def __init__(self,name,age):\n",
    "        self.name=name\n",
    "        self.age=age\n",
    "    def __str__(self):\n",
    "        return f\"{self.name} {self.age}\"\n",
    "    def func(self):\n",
    "        print(\"hello my name is \"+self.name)\n",
    "        print(\"my age is \",self.age)\n",
    "p1 = person(\"John\", 36)\n",
    "# print(p1.name)\n",
    "# print(p1.age)\n",
    "p1.func()\n"
   ]
  },
  {
   "cell_type": "code",
   "execution_count": 6,
   "id": "e42098f7",
   "metadata": {},
   "outputs": [
    {
     "name": "stdout",
     "output_type": "stream",
     "text": [
      "java 80\n",
      "dbms 50\n"
     ]
    }
   ],
   "source": [
    "class course:\n",
    "    def __init__(self,coursename,marks):\n",
    "        self.coursename=coursename\n",
    "        self.marks=marks\n",
    "    def __str__(self):\n",
    "        return f\"{self.coursename} {self.marks}\"\n",
    "c1=course(\"java\",80)\n",
    "c2=course(\"dbms\",50)\n",
    "c3=course(\"sql\",60)\n",
    "c4=course(\"python\",70)\n",
    "c5=course(\"linux\",30)\n",
    "print(c1)\n",
    "print(c2)"
   ]
  },
  {
   "cell_type": "code",
   "execution_count": 10,
   "id": "641fd1c9",
   "metadata": {},
   "outputs": [
    {
     "name": "stdout",
     "output_type": "stream",
     "text": [
      "40\n",
      "Hello my name is teja\n"
     ]
    }
   ],
   "source": [
    "#update \n",
    "class Person:\n",
    "    def __init__(self, name, age):\n",
    "        self.name = name\n",
    "        self.age = age\n",
    "    def myfunc(self):\n",
    "        print(\"Hello my name is \" + self.name)\n",
    "p1 = Person(\"John\", 36)\n",
    "p1.age = 40\n",
    "p1.name=\"teja\"\n",
    "print(p1.age)\n",
    "p1.myfunc()"
   ]
  },
  {
   "cell_type": "code",
   "execution_count": 14,
   "id": "99e491e0",
   "metadata": {},
   "outputs": [
    {
     "ename": "AttributeError",
     "evalue": "'Person' object has no attribute 'age'",
     "output_type": "error",
     "traceback": [
      "\u001b[1;31m---------------------------------------------------------------------------\u001b[0m",
      "\u001b[1;31mAttributeError\u001b[0m                            Traceback (most recent call last)",
      "\u001b[1;32m~\\AppData\\Local\\Temp\\ipykernel_5880\\356719275.py\u001b[0m in \u001b[0;36m<module>\u001b[1;34m\u001b[0m\n\u001b[0;32m      8\u001b[0m \u001b[0mp1\u001b[0m \u001b[1;33m=\u001b[0m \u001b[0mPerson\u001b[0m\u001b[1;33m(\u001b[0m\u001b[1;34m\"John\"\u001b[0m\u001b[1;33m,\u001b[0m \u001b[1;36m36\u001b[0m\u001b[1;33m)\u001b[0m\u001b[1;33m\u001b[0m\u001b[1;33m\u001b[0m\u001b[0m\n\u001b[0;32m      9\u001b[0m \u001b[1;32mdel\u001b[0m \u001b[0mp1\u001b[0m\u001b[1;33m.\u001b[0m\u001b[0mage\u001b[0m\u001b[1;33m\u001b[0m\u001b[1;33m\u001b[0m\u001b[0m\n\u001b[1;32m---> 10\u001b[1;33m \u001b[0mprint\u001b[0m\u001b[1;33m(\u001b[0m\u001b[0mp1\u001b[0m\u001b[1;33m.\u001b[0m\u001b[0mage\u001b[0m\u001b[1;33m)\u001b[0m\u001b[1;33m\u001b[0m\u001b[1;33m\u001b[0m\u001b[0m\n\u001b[0m\u001b[0;32m     11\u001b[0m \u001b[0mp1\u001b[0m\u001b[1;33m.\u001b[0m\u001b[0mfunc\u001b[0m\u001b[1;33m(\u001b[0m\u001b[1;33m)\u001b[0m\u001b[1;33m\u001b[0m\u001b[1;33m\u001b[0m\u001b[0m\n",
      "\u001b[1;31mAttributeError\u001b[0m: 'Person' object has no attribute 'age'"
     ]
    }
   ],
   "source": [
    "#delete\n",
    "class Person:\n",
    "    def __init__(self, name, age):\n",
    "        self.name = name\n",
    "        self.age = age\n",
    "    def myfunc(self):\n",
    "        print(\"Hello my name is \" + self.name)\n",
    "p1 = Person(\"John\", 36)\n",
    "del p1.age\n",
    "print(p1.age)"
   ]
  },
  {
   "cell_type": "code",
   "execution_count": 20,
   "id": "dc38b1a2",
   "metadata": {},
   "outputs": [
    {
     "name": "stdout",
     "output_type": "stream",
     "text": [
      "teja 21\n"
     ]
    }
   ],
   "source": [
    "class Person:\n",
    "    def __init__(self, name, age):\n",
    "        self.name = name\n",
    "        self.age = age\n",
    "    def __str__(self):\n",
    "        return f\"{self.name} {self.age}\"\n",
    "    \n",
    "    def myfunc(self):\n",
    "        print(\"Hello my name is \" + self.name)\n",
    "p1 = Person(\"John\", 36)\n",
    "p2= Person(\"teja\",21)\n",
    "del p1\n",
    "print(p2)"
   ]
  },
  {
   "cell_type": "code",
   "execution_count": 30,
   "id": "adb44a6c",
   "metadata": {},
   "outputs": [
    {
     "name": "stdout",
     "output_type": "stream",
     "text": [
      "tejasai manchi\n"
     ]
    }
   ],
   "source": [
    "#Inheritance\n",
    "class Person:\n",
    "    def __init__(self, fname, lname):\n",
    "        self.firstname = fname\n",
    "        self.lastname = lname\n",
    "    def printname(self):\n",
    "        print(self.firstname, self.lastname)\n",
    "class Student(Person):\n",
    "    pass\n",
    "x = Student(\"tejasai\",\"manchi\")\n",
    "x.printname()\n"
   ]
  },
  {
   "cell_type": "code",
   "execution_count": 5,
   "id": "209c0a3a",
   "metadata": {},
   "outputs": [
    {
     "name": "stdout",
     "output_type": "stream",
     "text": [
      "Mike Olsen\n",
      "30\n"
     ]
    }
   ],
   "source": [
    "class Person:\n",
    "    def __init__(self, fname, lname):\n",
    "        self.firstname = fname\n",
    "        self.lastname = lname\n",
    "    def printname(self):\n",
    "        print(self.firstname, self.lastname)\n",
    "class Student(Person):\n",
    "    def __init__(self,age):\n",
    "        super().__init__('Mike','Olsen')\n",
    "        self.age=age\n",
    "    def func(self):\n",
    "        print(self.age)\n",
    "    \n",
    "x = Student(30)\n",
    "x.printname()\n",
    "x.func()"
   ]
  },
  {
   "cell_type": "code",
   "execution_count": 35,
   "id": "1e0078ec",
   "metadata": {},
   "outputs": [
    {
     "name": "stdout",
     "output_type": "stream",
     "text": [
      "Mike Olsen\n",
      "2019\n"
     ]
    }
   ],
   "source": [
    "class Person:\n",
    "    def __init__(self, fname, lname):\n",
    "        self.firstname = fname\n",
    "        self.lastname = lname\n",
    "    def printname(self):\n",
    "        print(self.firstname, self.lastname)\n",
    "class Student(Person):\n",
    "    def __init__(self,fname,lname,year):\n",
    "        super().__init__(fname,lname)\n",
    "        self.graduationyear = year\n",
    "    def printyear(self):\n",
    "        print(self.graduationyear)   \n",
    "x = Student(\"Mike\", \"Olsen\", 2019)\n",
    "x.printname()\n",
    "x.printyear()"
   ]
  },
  {
   "cell_type": "code",
   "execution_count": 8,
   "id": "11de1fb8",
   "metadata": {},
   "outputs": [
    {
     "name": "stdout",
     "output_type": "stream",
     "text": [
      "1 teja\n",
      "Marks: 80\n",
      "2 preethi\n",
      "Marks: 90\n"
     ]
    }
   ],
   "source": [
    "class person:\n",
    "    def __init__(self,id,name):\n",
    "        self.id=id\n",
    "        self.name=name\n",
    "    def disp(self):\n",
    "        print(self.id,self.name)\n",
    "class student(person):\n",
    "    def __init__(self,id,name,marks):\n",
    "        person.__init__(self,id,name)\n",
    "        self.marks=marks\n",
    "    def func(self):\n",
    "        self.disp()\n",
    "        print(\"Marks:\",self.marks)\n",
    "s1=student(1,\"teja\",80)\n",
    "s2=student(2,\"preethi\",90)\n",
    "\n",
    "s1.func()\n",
    "s2.func()\n",
    "    \n",
    "    "
   ]
  },
  {
   "cell_type": "code",
   "execution_count": 10,
   "id": "b7add4a8",
   "metadata": {},
   "outputs": [
    {
     "name": "stdout",
     "output_type": "stream",
     "text": [
      "1 teja\n",
      "Marks: 80\n",
      "2 preethi\n",
      "Marks: 90\n"
     ]
    }
   ],
   "source": [
    "class person:\n",
    "    def __init__(self,id,name):\n",
    "        self.id=id\n",
    "        self.name=name\n",
    "    def disp(self):\n",
    "        print(self.id,self.name)\n",
    "class student(person):\n",
    "    def __init__(self,id,name,marks):\n",
    "        super().__init__(id,name)\n",
    "        self.marks=marks\n",
    "    def func(self):\n",
    "        self.disp()\n",
    "        print(\"Marks:\",self.marks)\n",
    "s1=student(1,\"teja\",80)\n",
    "s2=student(2,\"preethi\",90)\n",
    "\n",
    "s1.func()\n",
    "s2.func()\n",
    "    "
   ]
  },
  {
   "cell_type": "code",
   "execution_count": 11,
   "id": "e5880354",
   "metadata": {},
   "outputs": [
    {
     "name": "stdout",
     "output_type": "stream",
     "text": [
      "ford mustang\n",
      "drive\n",
      "Brand: ibiza\n",
      "Model: tourang\n",
      "sail\n",
      "Planebrand: boeing\n",
      "Planemodel: yui\n",
      "fly\n"
     ]
    }
   ],
   "source": [
    "class car:\n",
    "    def __init__(self,brand,model):\n",
    "        self.brand=brand\n",
    "        self.model=model\n",
    "    def move(self):\n",
    "        print(\"drive\")\n",
    "    def disp(self):\n",
    "        print(self.brand,self.model)\n",
    "class boat:\n",
    "    def __init__(self,brand,model):\n",
    "        self.brand=brand\n",
    "        self.model=model\n",
    "    def move(self):\n",
    "        print(\"sail\")\n",
    "    def disp(self):\n",
    "        print(\"Brand:\",self.brand)\n",
    "        print(\"Model:\",self.model)\n",
    "class plane:\n",
    "    def __init__(self,brand,model):\n",
    "        self.brand=brand\n",
    "        self.model=model\n",
    "    def move(self):\n",
    "        print(\"fly\")\n",
    "    def disp(self):\n",
    "        print(\"Planebrand:\",self.brand)\n",
    "        print(\"Planemodel:\",self.model)\n",
    "c1=car(\"ford\",\"mustang\") \n",
    "b1=boat(\"ibiza\",\"tourang\")\n",
    "p1=plane(\"boeing\",\"yui\")\n",
    "# c1.move()\n",
    "# b1.move()\n",
    "# p1.move()\n",
    "# for x in(c1,b1,p1):\n",
    "#     x.move()\n",
    "c1.disp()\n",
    "c1.move()\n",
    "b1.disp()\n",
    "b1.move()\n",
    "p1.disp()\n",
    "p1.move()\n",
    "\n"
   ]
  },
  {
   "cell_type": "code",
   "execution_count": 15,
   "id": "8c9333c9",
   "metadata": {},
   "outputs": [
    {
     "name": "stdout",
     "output_type": "stream",
     "text": [
      "ford\n",
      "mustang\n",
      "move\n",
      "ibiza\n",
      "tourang\n",
      "sail\n",
      "boeing\n",
      "yui\n",
      "fly\n"
     ]
    }
   ],
   "source": [
    "class vehicle:\n",
    "    def __init__(self,brand,model):\n",
    "        self.brand=brand\n",
    "        self.model=model\n",
    "    def move(self):\n",
    "        print(\"move\")\n",
    "# class car(vehicle):\n",
    "#     def move(self):\n",
    "#         print(\"drive\")\n",
    "class car(vehicle):\n",
    "    pass\n",
    "class boat(vehicle):\n",
    "    def move(self):\n",
    "        print(\"sail\")\n",
    "class plane(vehicle):\n",
    "    def move(self):\n",
    "        print(\"fly\")\n",
    "c1=car(\"ford\",\"mustang\")\n",
    "b1=boat(\"ibiza\",\"tourang\")\n",
    "p1=plane(\"boeing\",\"yui\")\n",
    "for x in(c1,b1,p1):\n",
    "    print(x.brand)\n",
    "    print(x.model)\n",
    "    x.move()\n",
    "\n",
    "    \n",
    "    "
   ]
  },
  {
   "cell_type": "code",
   "execution_count": 3,
   "id": "39ecd691",
   "metadata": {},
   "outputs": [
    {
     "name": "stdout",
     "output_type": "stream",
     "text": [
      "3 4 5\n",
      "Volume of box 1: 60\n",
      "2 3 4\n",
      "Volume of box 2: 24\n"
     ]
    }
   ],
   "source": [
    "class box:\n",
    "    def __init__(self,length,width,height):\n",
    "        self.length=length\n",
    "        self.width=width\n",
    "        self.height=height\n",
    "    def disp(self):\n",
    "        print(self.length,self.width,self.height)\n",
    "    def volume(self):\n",
    "        return self.length*self.width*self.height\n",
    "box1=box(3,4,5)\n",
    "box1.disp()\n",
    "print(\"Volume of box 1:\", box1.volume())\n",
    "box2=box(2,3,4)\n",
    "box2.disp()\n",
    "print(\"Volume of box 2:\", box2.volume())   "
   ]
  },
  {
   "cell_type": "code",
   "execution_count": 22,
   "id": "2a5f00f2",
   "metadata": {},
   "outputs": [
    {
     "name": "stdout",
     "output_type": "stream",
     "text": [
      "Rectangle:\n",
      "red\n",
      "5 4\n",
      "Area of rectangle: 20\n",
      "\n",
      "Square:\n",
      "blue\n",
      "3\n",
      "Area of square: 9\n",
      "Rectangle Color: red\n",
      "Updated Rectangle Color: green\n"
     ]
    }
   ],
   "source": [
    "class shape:\n",
    "    def __init__(self,color):\n",
    "        self._color=color\n",
    "    def get_color(self):\n",
    "        return self._color\n",
    "    def set_color(self,color):\n",
    "        self._color=color\n",
    "    def area(self):\n",
    "        pass\n",
    "    def disp(self):\n",
    "        print(self._color)\n",
    "class rectangle(shape):\n",
    "    def __init__(self,color,length,width):\n",
    "        super().__init__(color)\n",
    "        self._length=length\n",
    "        self._width=width\n",
    "    def area(self):\n",
    "        return self._length*self._width\n",
    "    def disprec(self):\n",
    "        super().disp()\n",
    "        print(self._length,self._width)\n",
    "    \n",
    "    \n",
    "class square(shape):\n",
    "    def __init__(self,color,side_length):\n",
    "        super().__init__(color)\n",
    "        self._side_length=side_length\n",
    "    def area(self):\n",
    "            return self._side_length**2\n",
    "    def dispsq(self):\n",
    "        super().disp()\n",
    "        print(self._side_length)\n",
    "r=rectangle(\"red\",5,4)\n",
    "s=square(\"blue\",3)\n",
    "\n",
    "print(\"Rectangle:\")\n",
    "r.disprec()\n",
    "print(\"Area of rectangle:\", r.area())\n",
    "\n",
    "print(\"\\nSquare:\")\n",
    "s.dispsq()\n",
    "print(\"Area of square:\", s.area())\n",
    "\n",
    "print(\"Rectangle Color:\", r.get_color()) # Output: Rectangle Color: red\n",
    "r.set_color(\"green\")\n",
    "print(\"Updated Rectangle Color:\", r.get_color()) \n"
   ]
  },
  {
   "cell_type": "code",
   "execution_count": null,
   "id": "05228861",
   "metadata": {},
   "outputs": [],
   "source": []
  }
 ],
 "metadata": {
  "kernelspec": {
   "display_name": "Python 3 (ipykernel)",
   "language": "python",
   "name": "python3"
  },
  "language_info": {
   "codemirror_mode": {
    "name": "ipython",
    "version": 3
   },
   "file_extension": ".py",
   "mimetype": "text/x-python",
   "name": "python",
   "nbconvert_exporter": "python",
   "pygments_lexer": "ipython3",
   "version": "3.9.13"
  }
 },
 "nbformat": 4,
 "nbformat_minor": 5
}
