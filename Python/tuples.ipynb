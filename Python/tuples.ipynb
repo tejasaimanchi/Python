{
 "cells": [
  {
   "cell_type": "code",
   "execution_count": 2,
   "id": "67f75c43",
   "metadata": {},
   "outputs": [
    {
     "name": "stdout",
     "output_type": "stream",
     "text": [
      "('car', 'bus', 'auto')\n"
     ]
    }
   ],
   "source": [
    "#Create a Tuple:\n",
    "vehicle=(\"car\",\"bus\",\"auto\")\n",
    "print(vehicle)"
   ]
  },
  {
   "cell_type": "code",
   "execution_count": 4,
   "id": "fdce588b",
   "metadata": {
    "scrolled": true
   },
   "outputs": [
    {
     "name": "stdout",
     "output_type": "stream",
     "text": [
      "('car', 'bus', 'auto', 'car')\n",
      "4\n"
     ]
    }
   ],
   "source": [
    "#Tuples allow duplicate values:\n",
    "#tuple length\n",
    "vehicle=(\"car\",\"bus\",\"auto\",\"car\")\n",
    "print(vehicle)\n",
    "print(len(vehicle))"
   ]
  },
  {
   "cell_type": "code",
   "execution_count": 8,
   "id": "2335d184",
   "metadata": {},
   "outputs": [
    {
     "name": "stdout",
     "output_type": "stream",
     "text": [
      "<class 'str'>\n",
      "car,\n"
     ]
    }
   ],
   "source": [
    "#Create Tuple With One Item\n",
    "vehicle=(\"car,\")\n",
    "print(type(vehicle))\n",
    "print(vehicle)"
   ]
  },
  {
   "cell_type": "code",
   "execution_count": 14,
   "id": "92eede96",
   "metadata": {},
   "outputs": [
    {
     "name": "stdout",
     "output_type": "stream",
     "text": [
      "bus\n",
      "bus\n"
     ]
    }
   ],
   "source": [
    "#Access Tuple Items\n",
    "vehicle=(\"car\",\"bus\",\"auto\")\n",
    "print(vehicle[1])\n",
    "print(vehicle[-2])"
   ]
  },
  {
   "cell_type": "code",
   "execution_count": 19,
   "id": "f72e8097",
   "metadata": {},
   "outputs": [
    {
     "name": "stdout",
     "output_type": "stream",
     "text": [
      "('orange', 'mango', 'grape')\n",
      "('apple', 'orange', 'mango', 'grape')\n",
      "('mango', 'grape', 'papaya')\n",
      "('apple', 'orange', 'mango', 'grape', 'papaya')\n",
      "('grape',)\n"
     ]
    }
   ],
   "source": [
    "#Range of Indexes\n",
    "fruits=(\"apple\",\"orange\",\"mango\",\"grape\",\"papaya\")\n",
    "print(fruits[1:4])\n",
    "print(fruits[:4])\n",
    "print(fruits[2:])\n",
    "print(fruits[0:5])\n",
    "print(fruits[-2:-1])"
   ]
  },
  {
   "cell_type": "code",
   "execution_count": 23,
   "id": "35903901",
   "metadata": {},
   "outputs": [
    {
     "name": "stdout",
     "output_type": "stream",
     "text": [
      "yes,'apple' is in the fruits\n"
     ]
    }
   ],
   "source": [
    "#Check if Item Exists\n",
    "fruits=(\"apple\",\"orange\",\"mango\")\n",
    "if \"apple\" in fruits:\n",
    "    print(\"yes,'apple' is in the fruits\")"
   ]
  },
  {
   "cell_type": "code",
   "execution_count": 24,
   "id": "256d5cab",
   "metadata": {},
   "outputs": [
    {
     "name": "stdout",
     "output_type": "stream",
     "text": [
      "yes 'apple' is in fruits\n"
     ]
    }
   ],
   "source": [
    "fruit=(\"apple\",\"orange\",\"mango\")\n",
    "if \"apple\" in fruits:\n",
    "    print(\"yes 'apple' is in fruits\")"
   ]
  },
  {
   "cell_type": "code",
   "execution_count": 4,
   "id": "70803926",
   "metadata": {},
   "outputs": [
    {
     "name": "stdout",
     "output_type": "stream",
     "text": [
      "('car', 'bus', 'auto')\n",
      "['car', 'bus', 'auto']\n",
      "['car', 'bus', 'truck']\n",
      "('car', 'bus', 'truck')\n"
     ]
    }
   ],
   "source": [
    "#changing tuple elements\n",
    "vehicletuple=(\"car\",\"bus\",\"auto\")\n",
    "vehiclelist=list(vehicletuple)\n",
    "print(vehicletuple)\n",
    "print(vehiclelist)\n",
    "vehiclelist[2]=\"truck\"\n",
    "print(vehiclelist)\n",
    "vehicletuple=tuple(vehiclelist)\n",
    "print(vehicletuple)"
   ]
  },
  {
   "cell_type": "code",
   "execution_count": 5,
   "id": "b5fc3e4a",
   "metadata": {},
   "outputs": [
    {
     "name": "stdout",
     "output_type": "stream",
     "text": [
      "('car', 'bus', 'auto', 'truck')\n"
     ]
    }
   ],
   "source": [
    "#add new elements to tuple\n",
    "vehicletuple=(\"car\",\"bus\",\"auto\")\n",
    "newtuple=(\"truck\",)\n",
    "vehicletuple+=newtuple\n",
    "print(vehicletuple)\n"
   ]
  },
  {
   "cell_type": "code",
   "execution_count": 7,
   "id": "ed372ede",
   "metadata": {},
   "outputs": [
    {
     "name": "stdout",
     "output_type": "stream",
     "text": [
      "('car', 'bus', 'auto', 'aeroplane')\n"
     ]
    }
   ],
   "source": [
    "vehicle=(\"car\",\"bus\",\"auto\")\n",
    "x=(\"aeroplane\",)\n",
    "vehicle+=x\n",
    "print(vehicle)\n"
   ]
  },
  {
   "cell_type": "code",
   "execution_count": 11,
   "id": "2ff30773",
   "metadata": {},
   "outputs": [
    {
     "name": "stdout",
     "output_type": "stream",
     "text": [
      "('orange', 'mango')\n"
     ]
    }
   ],
   "source": [
    "#remove and del\n",
    "fruit=(\"apple\",\"orange\",\"mango\")\n",
    "y=list(fruit)\n",
    "y.remove(\"apple\")\n",
    "fruit=tuple(y)\n",
    "print(fruit)\n"
   ]
  },
  {
   "cell_type": "code",
   "execution_count": 12,
   "id": "4f941fc1",
   "metadata": {},
   "outputs": [
    {
     "ename": "NameError",
     "evalue": "name 'fruit' is not defined",
     "output_type": "error",
     "traceback": [
      "\u001b[1;31m---------------------------------------------------------------------------\u001b[0m",
      "\u001b[1;31mNameError\u001b[0m                                 Traceback (most recent call last)",
      "\u001b[1;32m~\\AppData\\Local\\Temp\\ipykernel_17052\\1864978542.py\u001b[0m in \u001b[0;36m<module>\u001b[1;34m\u001b[0m\n\u001b[0;32m      1\u001b[0m \u001b[0mfruit\u001b[0m\u001b[1;33m=\u001b[0m\u001b[1;33m(\u001b[0m\u001b[1;34m\"apple\"\u001b[0m\u001b[1;33m,\u001b[0m\u001b[1;34m\"orange\"\u001b[0m\u001b[1;33m,\u001b[0m\u001b[1;34m\"mango\"\u001b[0m\u001b[1;33m)\u001b[0m\u001b[1;33m\u001b[0m\u001b[1;33m\u001b[0m\u001b[0m\n\u001b[0;32m      2\u001b[0m \u001b[1;32mdel\u001b[0m \u001b[0mfruit\u001b[0m\u001b[1;33m\u001b[0m\u001b[1;33m\u001b[0m\u001b[0m\n\u001b[1;32m----> 3\u001b[1;33m \u001b[0mprint\u001b[0m\u001b[1;33m(\u001b[0m\u001b[0mfruit\u001b[0m\u001b[1;33m)\u001b[0m\u001b[1;33m\u001b[0m\u001b[1;33m\u001b[0m\u001b[0m\n\u001b[0m",
      "\u001b[1;31mNameError\u001b[0m: name 'fruit' is not defined"
     ]
    }
   ],
   "source": [
    "fruit=(\"apple\",\"orange\",\"mango\")\n",
    "del fruit\n",
    "print(fruit)"
   ]
  },
  {
   "cell_type": "code",
   "execution_count": 13,
   "id": "f2f2345e",
   "metadata": {},
   "outputs": [
    {
     "name": "stdout",
     "output_type": "stream",
     "text": [
      "apple orange mango\n"
     ]
    }
   ],
   "source": [
    "#unpacking tuple\n",
    "fruits=(\"apple\",\"orange\",\"mango\")\n",
    "x,y,z=fruits\n",
    "print(x,y,z)"
   ]
  },
  {
   "cell_type": "code",
   "execution_count": 14,
   "id": "16335f5d",
   "metadata": {},
   "outputs": [
    {
     "name": "stdout",
     "output_type": "stream",
     "text": [
      "apple orange ['mango', 'papaya', 'banana']\n"
     ]
    }
   ],
   "source": [
    "#Using Asterisk*\n",
    "fruits=(\"apple\",\"orange\",\"mango\",\"papaya\",\"banana\")\n",
    "x,y,*z=fruits\n",
    "print(x,y,z)\n"
   ]
  },
  {
   "cell_type": "code",
   "execution_count": 17,
   "id": "2e9b1289",
   "metadata": {},
   "outputs": [
    {
     "name": "stdout",
     "output_type": "stream",
     "text": [
      "['apple', 'orange', 'mango'] papaya banana\n"
     ]
    }
   ],
   "source": [
    "fruits=(\"apple\",\"orange\",\"mango\",\"papaya\",\"banana\")\n",
    "*x,y,z=fruits\n",
    "print(x,y,z)"
   ]
  },
  {
   "cell_type": "code",
   "execution_count": 18,
   "id": "89a33a6c",
   "metadata": {},
   "outputs": [
    {
     "name": "stdout",
     "output_type": "stream",
     "text": [
      "apple\n",
      "orange\n",
      "mango\n",
      "papaya\n",
      "banana\n"
     ]
    }
   ],
   "source": [
    "#Loop Through a Tuple\n",
    "fruits=(\"apple\",\"orange\",\"mango\",\"papaya\",\"banana\")\n",
    "for x in fruits:\n",
    "    print(x)"
   ]
  },
  {
   "cell_type": "code",
   "execution_count": 21,
   "id": "66aec924",
   "metadata": {},
   "outputs": [
    {
     "name": "stdout",
     "output_type": "stream",
     "text": [
      "apple\n",
      "orange\n",
      "mango\n",
      "papaya\n",
      "banana\n"
     ]
    }
   ],
   "source": [
    "#Loop Through the Index Numbers\n",
    "fruits=(\"apple\",\"orange\",\"mango\",\"papaya\",\"banana\")\n",
    "for x in range(len(fruits)):\n",
    "    print(fruits[x])"
   ]
  },
  {
   "cell_type": "code",
   "execution_count": 23,
   "id": "b5991cd9",
   "metadata": {},
   "outputs": [
    {
     "name": "stdout",
     "output_type": "stream",
     "text": [
      "apple\n",
      "orange\n",
      "mango\n",
      "papaya\n",
      "banana\n"
     ]
    }
   ],
   "source": [
    "#Using a While Loop\n",
    "fruits=(\"apple\",\"orange\",\"mango\",\"papaya\",\"banana\")\n",
    "i=0\n",
    "while i<len(fruits):\n",
    "    print(fruits[i])\n",
    "    i=i+1"
   ]
  },
  {
   "cell_type": "code",
   "execution_count": 25,
   "id": "d584a0d8",
   "metadata": {},
   "outputs": [
    {
     "name": "stdout",
     "output_type": "stream",
     "text": [
      "('apple', 'orange', 'mango', 'car', 'bus', 'auto')\n",
      "('apple', 'orange', 'mango', 'apple', 'orange', 'mango')\n"
     ]
    }
   ],
   "source": [
    "#Join Two Tuples\n",
    "fruit=(\"apple\",\"orange\",\"mango\")\n",
    "vehicle=(\"car\",\"bus\",\"auto\")\n",
    "tuple=fruit+vehicle\n",
    "print(tuple)\n",
    "tuple=fruit*2\n",
    "print(tuple)"
   ]
  },
  {
   "cell_type": "code",
   "execution_count": null,
   "id": "b4183fa8",
   "metadata": {},
   "outputs": [],
   "source": []
  }
 ],
 "metadata": {
  "kernelspec": {
   "display_name": "Python 3 (ipykernel)",
   "language": "python",
   "name": "python3"
  },
  "language_info": {
   "codemirror_mode": {
    "name": "ipython",
    "version": 3
   },
   "file_extension": ".py",
   "mimetype": "text/x-python",
   "name": "python",
   "nbconvert_exporter": "python",
   "pygments_lexer": "ipython3",
   "version": "3.9.13"
  }
 },
 "nbformat": 4,
 "nbformat_minor": 5
}
