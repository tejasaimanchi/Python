{
 "cells": [
  {
   "cell_type": "code",
   "execution_count": 4,
   "id": "fa77f1fd",
   "metadata": {},
   "outputs": [
    {
     "name": "stdout",
     "output_type": "stream",
     "text": [
      "Requirement already satisfied: mysql-connector-python in c:\\users\\tejas\\anaconda3\\lib\\site-packages (8.4.0)\n"
     ]
    }
   ],
   "source": [
    "!pip install mysql-connector-python"
   ]
  },
  {
   "cell_type": "code",
   "execution_count": 7,
   "id": "03ae2387",
   "metadata": {},
   "outputs": [
    {
     "name": "stdout",
     "output_type": "stream",
     "text": [
      "(3, 'testing')\n"
     ]
    }
   ],
   "source": [
    "import mysql.connector as mc\n",
    "conn=mc.connect(host=\"localhost\",user=\"root\",password=\"@Prathibha96\",database=\"dbda\")\n",
    "mycursor=conn.cursor()\n",
    "def select(did):\n",
    "    q1=\"select did,DepartmentName from dept where did=%s\"\n",
    "    id=[did]\n",
    "    mycursor.execute(q1,id)\n",
    "    myresult=mycursor.fetchall()\n",
    "    for x in myresult:\n",
    "        print(x)\n",
    "\n",
    "select(3)"
   ]
  },
  {
   "cell_type": "code",
   "execution_count": 9,
   "id": "8fdb65f4",
   "metadata": {},
   "outputs": [
    {
     "name": "stdout",
     "output_type": "stream",
     "text": [
      "(1, 'Sales', 'New York')\n",
      "(2, 'Marketing', 'Chicago')\n",
      "(3, 'testing', 'Boston')\n",
      "(4, 'marketing', 'india')\n"
     ]
    }
   ],
   "source": [
    "import mysql.connector as mc\n",
    "conn=mc.connect(host=\"localhost\",user=\"root\",password=\"@Prathibha96\",database=\"dbda\")\n",
    "mycursor=conn.cursor()\n",
    "def select():\n",
    "    q1=\"select * from dept\"\n",
    "    mycursor.execute(q1)\n",
    "    myresult=mycursor.fetchall()\n",
    "    for x in myresult:\n",
    "        print(x)\n",
    "select()\n"
   ]
  },
  {
   "cell_type": "code",
   "execution_count": 12,
   "id": "cc685cc9",
   "metadata": {},
   "outputs": [
    {
     "name": "stdout",
     "output_type": "stream",
     "text": [
      "no of record inserted: 1\n"
     ]
    }
   ],
   "source": [
    "import mysql.connector as mc\n",
    "conn=mc.connect(host=\"localhost\",user=\"root\",password=\"@Prathibha96\",database=\"dbda\")\n",
    "mycursor=conn.cursor()\n",
    "def insert(did,DepartmentName,Location):\n",
    "    q1=\"insert into dept(did,DepartmentName,Location)values(%s,%s,%s)\"\n",
    "    values=(did,DepartmentName,Location)\n",
    "    mycursor.execute(q1,values)\n",
    "    conn.commit()\n",
    "    print(\"no of record inserted:\",mycursor.rowcount)\n",
    "insert(5,\"managing\",\"us\")\n"
   ]
  },
  {
   "cell_type": "code",
   "execution_count": 13,
   "id": "ee95ad48",
   "metadata": {},
   "outputs": [
    {
     "name": "stdout",
     "output_type": "stream",
     "text": [
      "no of record updated: 1\n"
     ]
    }
   ],
   "source": [
    "import mysql.connector as mc\n",
    "conn=mc.connect(host=\"localhost\",user=\"root\",password=\"@Prathibha96\",database=\"dbda\")\n",
    "mycursor=conn.cursor()\n",
    "def update(DepartmentName,did):\n",
    "    q1=\"update dept set DepartmentName=%s where did=%s\"\n",
    "    values=(DepartmentName,did)\n",
    "    mycursor.execute(q1,values)\n",
    "    conn.commit()\n",
    "    print(\"no of record updated:\",mycursor.rowcount)\n",
    "update(\"industry\",4)"
   ]
  },
  {
   "cell_type": "code",
   "execution_count": 14,
   "id": "ed3b15bc",
   "metadata": {},
   "outputs": [
    {
     "name": "stdout",
     "output_type": "stream",
     "text": [
      "no of records deleted: 1\n"
     ]
    }
   ],
   "source": [
    "import mysql.connector as mc\n",
    "conn=mc.connect(host=\"localhost\",user=\"root\",password=\"@Prathibha96\",database=\"dbda\")\n",
    "mycursor=conn.cursor()\n",
    "def delete(did):\n",
    "    q1=\"delete from dept where did=%s\"\n",
    "    id=[did]\n",
    "    mycursor.execute(q1,id)\n",
    "    conn.commit()\n",
    "    print(\"no of records deleted:\",mycursor.rowcount)\n",
    "delete(5)"
   ]
  },
  {
   "cell_type": "code",
   "execution_count": null,
   "id": "3847e0a6",
   "metadata": {},
   "outputs": [],
   "source": []
  }
 ],
 "metadata": {
  "kernelspec": {
   "display_name": "Python 3 (ipykernel)",
   "language": "python",
   "name": "python3"
  },
  "language_info": {
   "codemirror_mode": {
    "name": "ipython",
    "version": 3
   },
   "file_extension": ".py",
   "mimetype": "text/x-python",
   "name": "python",
   "nbconvert_exporter": "python",
   "pygments_lexer": "ipython3",
   "version": "3.9.13"
  }
 },
 "nbformat": 4,
 "nbformat_minor": 5
}
