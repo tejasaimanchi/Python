{
 "cells": [
  {
   "cell_type": "code",
   "execution_count": 2,
   "id": "0cd87a77",
   "metadata": {},
   "outputs": [
    {
     "name": "stdout",
     "output_type": "stream",
     "text": [
      "10\n"
     ]
    }
   ],
   "source": [
    "# NumPy ndarray Object\n",
    "# 0D array\n",
    "import numpy as np\n",
    "arr0=np.array(10)\n",
    "print(arr0)"
   ]
  },
  {
   "cell_type": "code",
   "execution_count": 10,
   "id": "f36a7183",
   "metadata": {},
   "outputs": [
    {
     "name": "stdout",
     "output_type": "stream",
     "text": [
      "[1 2 3 4 5]\n",
      "<class 'numpy.ndarray'>\n"
     ]
    }
   ],
   "source": [
    "# 1d array\n",
    "import numpy as np\n",
    "arr1=np.array([1,2,3,4,5])\n",
    "print(arr1)\n",
    "print(type(arr1))"
   ]
  },
  {
   "cell_type": "code",
   "execution_count": 11,
   "id": "24246038",
   "metadata": {},
   "outputs": [
    {
     "name": "stdout",
     "output_type": "stream",
     "text": [
      "[1 2 3 4 5]\n",
      "3\n"
     ]
    }
   ],
   "source": [
    "# id array-index\n",
    "import numpy as np\n",
    "arr1=np.array([1,2,3,4,5])\n",
    "print(arr1)\n",
    "print(arr1[2])"
   ]
  },
  {
   "cell_type": "code",
   "execution_count": 13,
   "id": "51a70d17",
   "metadata": {},
   "outputs": [
    {
     "name": "stdout",
     "output_type": "stream",
     "text": [
      "[[1 2 3]\n",
      " [4 5 6]]\n"
     ]
    }
   ],
   "source": [
    "# 2d array\n",
    "import numpy as np\n",
    "arr2=np.array([[1,2,3],[4,5,6]])\n",
    "print(arr2)\n"
   ]
  },
  {
   "cell_type": "code",
   "execution_count": 19,
   "id": "4a055af0",
   "metadata": {},
   "outputs": [
    {
     "name": "stdout",
     "output_type": "stream",
     "text": [
      "1\n",
      "2\n",
      "3\n",
      "4\n",
      "5\n",
      "6\n"
     ]
    }
   ],
   "source": [
    "## Accessing array elements in 2D\n",
    "import numpy as np\n",
    "arr2=np.array([[1,2,3],[4,5,6]])\n",
    "print(arr2[0,0])\n",
    "print(arr2[0,1])\n",
    "print(arr2[0,2])\n",
    "print(arr2[1,0])\n",
    "print(arr2[1,1])\n",
    "print(arr2[1,2])"
   ]
  },
  {
   "cell_type": "code",
   "execution_count": 20,
   "id": "5cee7c10",
   "metadata": {},
   "outputs": [
    {
     "name": "stdout",
     "output_type": "stream",
     "text": [
      "[[[ 1  2  3]\n",
      "  [ 4  5  6]]\n",
      "\n",
      " [[ 7  8  9]\n",
      "  [10 11 12]]]\n"
     ]
    }
   ],
   "source": [
    "# 3d array\n",
    "import numpy as np\n",
    "arr3=np.array([[[1,2,3],[4,5,6]],[[7,8,9],[10,11,12]]])\n",
    "print(arr3)"
   ]
  },
  {
   "cell_type": "code",
   "execution_count": 28,
   "id": "378166fa",
   "metadata": {},
   "outputs": [
    {
     "name": "stdout",
     "output_type": "stream",
     "text": [
      "1\n",
      "2\n",
      "3\n",
      "4\n",
      "5\n",
      "7\n",
      "8\n",
      "9\n",
      "10\n",
      "11\n",
      "12\n"
     ]
    }
   ],
   "source": [
    "## Accessing array elements in 3D\n",
    "import numpy as np\n",
    "arr3=np.array([[[1,2,3],[4,5,6]],[[7,8,9],[10,11,12]]])\n",
    "print(arr3[0,0,0])\n",
    "print(arr3[0,0,1])\n",
    "print(arr3[0,0,2])\n",
    "print(arr3[0,1,0])\n",
    "print(arr3[0,1,1])\n",
    "print(arr3[1,0,0])\n",
    "print(arr3[1,0,1])\n",
    "print(arr3[1,0,2])\n",
    "print(arr3[1,1,0])\n",
    "print(arr3[1,1,1])\n",
    "print(arr3[1,1,2])"
   ]
  },
  {
   "cell_type": "code",
   "execution_count": 35,
   "id": "de820fa8",
   "metadata": {},
   "outputs": [
    {
     "name": "stdout",
     "output_type": "stream",
     "text": [
      "[1 2 3 4]\n",
      "5\n"
     ]
    }
   ],
   "source": [
    "# add\n",
    "import numpy as np\n",
    "arr=np.array([1,2,3,4])\n",
    "print(arr)\n",
    "print(arr[1]+arr[2])"
   ]
  },
  {
   "cell_type": "code",
   "execution_count": 33,
   "id": "23dba037",
   "metadata": {},
   "outputs": [
    {
     "name": "stdout",
     "output_type": "stream",
     "text": [
      "(array([0, 1, 3, 5, 7], dtype=int64),)\n"
     ]
    }
   ],
   "source": [
    "# even nos\n",
    "import numpy as np\n",
    "arr = np.array([0, 2, 3, 4, 5, 6, 7, 8])\n",
    "x = np.where(arr%2 == 0)\n",
    "print(x)"
   ]
  },
  {
   "cell_type": "code",
   "execution_count": 36,
   "id": "eed6fbda",
   "metadata": {},
   "outputs": [
    {
     "name": "stdout",
     "output_type": "stream",
     "text": [
      "(array([3, 5, 6], dtype=int64),)\n"
     ]
    }
   ],
   "source": [
    "# Find the indexes where the value is 4\n",
    "# using where in arrays returns the location\n",
    "import numpy as np\n",
    "arr = np.array([1, 2, 3, 4, 5, 4, 4])\n",
    "x = np.where(arr == 4)\n",
    "print(x)"
   ]
  },
  {
   "cell_type": "code",
   "execution_count": 37,
   "id": "1bc997af",
   "metadata": {},
   "outputs": [
    {
     "name": "stdout",
     "output_type": "stream",
     "text": [
      "[0 1 2 3]\n"
     ]
    }
   ],
   "source": [
    "# Sort the array:\n",
    "import numpy as np\n",
    "arr = np.array([3, 2, 0, 1])\n",
    "print(np.sort(arr))"
   ]
  },
  {
   "cell_type": "code",
   "execution_count": 58,
   "id": "5aca8a9f",
   "metadata": {},
   "outputs": [
    {
     "name": "stdout",
     "output_type": "stream",
     "text": [
      "[3 2 1 0]\n"
     ]
    }
   ],
   "source": [
    "#soring in reverse order\n",
    "import numpy as np\n",
    "arr = np.array([3, 2, 0, 1])\n",
    "desc=np.sort(arr)[::-1]\n",
    "print(desc)"
   ]
  },
  {
   "cell_type": "code",
   "execution_count": 40,
   "id": "2c6798b5",
   "metadata": {},
   "outputs": [
    {
     "name": "stdout",
     "output_type": "stream",
     "text": [
      "[5 7 9]\n",
      "[-3 -3 -3]\n",
      "[ 4 10 18]\n",
      "[1.         1.41421356 1.73205081]\n"
     ]
    }
   ],
   "source": [
    "## Arithmetic Functions\n",
    "# add,subract,multiply\n",
    "import numpy as np\n",
    "arr1=np.array([1,2,3])\n",
    "arr2=np.array([4,5,6])\n",
    "result_a=np.add(arr1,arr2)\n",
    "result_s=np.subtract(arr1,arr2)\n",
    "result_m=np.multiply(arr1,arr2)\n",
    "result_sq=np.sqrt(arr1)\n",
    "print(result_a)\n",
    "print(result_s)\n",
    "print(result_m)\n",
    "print(result_sq)"
   ]
  },
  {
   "cell_type": "code",
   "execution_count": 2,
   "id": "316a902b",
   "metadata": {},
   "outputs": [
    {
     "name": "stdout",
     "output_type": "stream",
     "text": [
      "[2. 2. 2.]\n"
     ]
    }
   ],
   "source": [
    "import numpy as np\n",
    "\n",
    "arr1=np.array([4,4,4])\n",
    "result=np.sqrt(arr1)4\n",
    "print(result)"
   ]
  },
  {
   "cell_type": "code",
   "execution_count": 41,
   "id": "dd0e1a94",
   "metadata": {},
   "outputs": [
    {
     "name": "stdout",
     "output_type": "stream",
     "text": [
      "(2, 3)\n"
     ]
    }
   ],
   "source": [
    "# shape\n",
    "import numpy as np\n",
    "arr=np.array([[1,2,3],[4,5,6]])\n",
    "print(arr.shape)"
   ]
  },
  {
   "cell_type": "code",
   "execution_count": 42,
   "id": "1926dc46",
   "metadata": {},
   "outputs": [
    {
     "name": "stdout",
     "output_type": "stream",
     "text": [
      "3\n"
     ]
    }
   ],
   "source": [
    "# size\n",
    "import numpy as np\n",
    "arr=np.array([4,5,6])\n",
    "print(arr.size)"
   ]
  },
  {
   "cell_type": "code",
   "execution_count": 51,
   "id": "21192ecf",
   "metadata": {},
   "outputs": [
    {
     "name": "stdout",
     "output_type": "stream",
     "text": [
      "[[1 2 3 4 5 6]]\n",
      "[[1 2 3]\n",
      " [4 5 6]]\n",
      "[[1 2]\n",
      " [3 4]\n",
      " [5 6]]\n"
     ]
    }
   ],
   "source": [
    "#reshape\n",
    "import numpy as np\n",
    "arr=np.array([1,2,3,4,5,6])\n",
    "print(arr.reshape(1,6))\n",
    "print(arr.reshape(2,3))\n",
    "print(arr.reshape(3,2))"
   ]
  },
  {
   "cell_type": "code",
   "execution_count": 57,
   "id": "a645af8a",
   "metadata": {},
   "outputs": [
    {
     "name": "stdout",
     "output_type": "stream",
     "text": [
      "[[[ 1  2  3]\n",
      "  [ 4  5  6]]\n",
      "\n",
      " [[ 7  8  9]\n",
      "  [10 11 12]]]\n",
      "\n",
      "\n",
      "[[ 7  8  9]\n",
      " [10 11 12]]\n",
      "\n",
      "\n",
      "[10 11 12]\n"
     ]
    }
   ],
   "source": [
    "import numpy as np\n",
    "arr3=np.array([[[1,2,3],[4,5,6]],[[7,8,9],[10,11,12]]])\n",
    "print(arr3)\n",
    "print(\"\\n\")\n",
    "print(arr3[1])\n",
    "print(\"\\n\")\n",
    "print(arr3[1,1])"
   ]
  },
  {
   "cell_type": "code",
   "execution_count": 61,
   "id": "ebbaecb9",
   "metadata": {},
   "outputs": [
    {
     "name": "stdout",
     "output_type": "stream",
     "text": [
      "[[[ 3  5  7]\n",
      "  [ 9 11 13]]\n",
      "\n",
      " [[15 17 19]\n",
      "  [21 23 25]]]\n",
      "\n",
      "\n",
      "[[[-1 -1 -1]\n",
      "  [-1 -1 -1]]\n",
      "\n",
      " [[-1 -1 -1]\n",
      "  [-1 -1 -1]]]\n",
      "\n",
      "\n",
      "[[[  2   6  12]\n",
      "  [ 20  30  42]]\n",
      "\n",
      " [[ 56  72  90]\n",
      "  [110 132 156]]]\n",
      "\n",
      "\n",
      "[[[1.         1.41421356 1.73205081]\n",
      "  [2.         2.23606798 2.44948974]]\n",
      "\n",
      " [[2.64575131 2.82842712 3.        ]\n",
      "  [3.16227766 3.31662479 3.46410162]]]\n"
     ]
    }
   ],
   "source": [
    "import numpy as np\n",
    "arr1=np.array([[[1,2,3],[4,5,6]],[[7,8,9],[10,11,12]]])\n",
    "arr2=np.array([[[2,3,4],[5,6,7]],[[8,9,10],[11,12,13]]])\n",
    "result_a=np.add(arr1,arr2)\n",
    "result_s=np.subtract(arr1,arr2)\n",
    "result_m=np.multiply(arr1,arr2)\n",
    "result_sq=np.sqrt(arr1)\n",
    "print(result_a)\n",
    "print(\"\\n\")\n",
    "print(result_s)\n",
    "print(\"\\n\")\n",
    "print(result_m)\n",
    "print(\"\\n\")\n",
    "print(result_sq)\n",
    "\n",
    "              "
   ]
  },
  {
   "cell_type": "code",
   "execution_count": 1,
   "id": "b20730c1",
   "metadata": {},
   "outputs": [
    {
     "name": "stdout",
     "output_type": "stream",
     "text": [
      "0\n",
      "1\n",
      "2\n",
      "3\n"
     ]
    }
   ],
   "source": [
    "import numpy as np\n",
    "a = np.array(42)\n",
    "b = np.array([1, 2, 3, 4, 5])\n",
    "c = np.array([[1, 2, 3], [4, 5, 6]])\n",
    "d = np.array([[[1, 2, 3], [4, 5, 6]], [[1, 2, 3], [4, 5, 6]]])\n",
    "print(a.ndim)\n",
    "print(b.ndim)\n",
    "print(c.ndim)\n",
    "print(d.ndim)"
   ]
  },
  {
   "cell_type": "code",
   "execution_count": null,
   "id": "b9112149",
   "metadata": {},
   "outputs": [],
   "source": []
  }
 ],
 "metadata": {
  "kernelspec": {
   "display_name": "Python 3 (ipykernel)",
   "language": "python",
   "name": "python3"
  },
  "language_info": {
   "codemirror_mode": {
    "name": "ipython",
    "version": 3
   },
   "file_extension": ".py",
   "mimetype": "text/x-python",
   "name": "python",
   "nbconvert_exporter": "python",
   "pygments_lexer": "ipython3",
   "version": "3.9.13"
  }
 },
 "nbformat": 4,
 "nbformat_minor": 5
}
