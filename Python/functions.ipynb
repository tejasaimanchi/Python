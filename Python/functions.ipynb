{
 "cells": [
  {
   "cell_type": "code",
   "execution_count": 1,
   "id": "e548af66",
   "metadata": {},
   "outputs": [
    {
     "name": "stdout",
     "output_type": "stream",
     "text": [
      "good morning\n"
     ]
    }
   ],
   "source": [
    "#Creating a Function\n",
    "#Calling a function \n",
    "def func():\n",
    "    print(\"good morning\")\n",
    "func()"
   ]
  },
  {
   "cell_type": "code",
   "execution_count": 3,
   "id": "eb3c6774",
   "metadata": {},
   "outputs": [
    {
     "name": "stdout",
     "output_type": "stream",
     "text": [
      "tejasai manchi\n"
     ]
    }
   ],
   "source": [
    "#Function Arguments\n",
    "def func(fname,lname):\n",
    "    print(fname+ \" \" +lname)\n",
    "func(\"tejasai\",\"manchi\")\n",
    "    \n"
   ]
  },
  {
   "cell_type": "code",
   "execution_count": 17,
   "id": "769392b1",
   "metadata": {},
   "outputs": [
    {
     "name": "stdout",
     "output_type": "stream",
     "text": [
      "tejasai manchi\n"
     ]
    }
   ],
   "source": [
    "def func(fname):\n",
    "    print(fname + \" manchi\")\n",
    "func(\"tejasai\")\n",
    "    "
   ]
  },
  {
   "cell_type": "code",
   "execution_count": 16,
   "id": "53e3ae92",
   "metadata": {},
   "outputs": [
    {
     "name": "stdout",
     "output_type": "stream",
     "text": [
      "the middle name is sai\n"
     ]
    }
   ],
   "source": [
    "#Arbitrary Arguments, *args\n",
    "def func(*fname):\n",
    "    print(\"the middle name is \" + fname[1])\n",
    "func(\"teja\", \"sai\", \"manchi\")"
   ]
  },
  {
   "cell_type": "code",
   "execution_count": 19,
   "id": "8ead118c",
   "metadata": {},
   "outputs": [
    {
     "name": "stdout",
     "output_type": "stream",
     "text": [
      "The youngest child is Linus\n"
     ]
    }
   ],
   "source": [
    "#Using Optional and Named Arguments \n",
    "def my_function(child3, child2, child1):\n",
    "    print(\"The youngest child is \" + child3)\n",
    "my_function(child1 = \"Emil\", child2 = \"Tobias\", child3 = \"Linus\")"
   ]
  },
  {
   "cell_type": "code",
   "execution_count": 23,
   "id": "ac5a9187",
   "metadata": {},
   "outputs": [
    {
     "name": "stdout",
     "output_type": "stream",
     "text": [
      "name of the student is teja\n"
     ]
    }
   ],
   "source": [
    "def func(name,age,course):\n",
    "    print(\"name of the student is \" + name)\n",
    "func(name=\"teja\",age=21,course=\"dbda\")"
   ]
  },
  {
   "cell_type": "code",
   "execution_count": 27,
   "id": "062122ad",
   "metadata": {},
   "outputs": [
    {
     "name": "stdout",
     "output_type": "stream",
     "text": [
      "teja dbda\n"
     ]
    }
   ],
   "source": [
    "def func(name,age,course):\n",
    "    print(name + \" \" + course)\n",
    "func(name=\"teja\",age=21,course=\"dbda\")"
   ]
  },
  {
   "cell_type": "code",
   "execution_count": 4,
   "id": "4a79d330",
   "metadata": {},
   "outputs": [
    {
     "name": "stdout",
     "output_type": "stream",
     "text": [
      "the last name is manchi\n"
     ]
    }
   ],
   "source": [
    "#Arbitrary Keyword Arguments, **kwargs\n",
    "def func(**fullname):\n",
    "    print(\"the last name is \" + fullname[\"lname\"])\n",
    "func(fname=\"tejasai\",lname=\"manchi\")"
   ]
  },
  {
   "cell_type": "code",
   "execution_count": 8,
   "id": "043cce3a",
   "metadata": {},
   "outputs": [
    {
     "name": "stdout",
     "output_type": "stream",
     "text": [
      "i am from india\n",
      "i am from us\n"
     ]
    }
   ],
   "source": [
    "#default Parameter Value\n",
    "def func(country=\"india\"):\n",
    "    print(\"i am from \" + country)\n",
    "func()\n",
    "func(\"us\")"
   ]
  },
  {
   "cell_type": "code",
   "execution_count": 10,
   "id": "c833c799",
   "metadata": {},
   "outputs": [
    {
     "name": "stdout",
     "output_type": "stream",
     "text": [
      "apple\n",
      "banana\n",
      "cherry\n"
     ]
    }
   ],
   "source": [
    "#Passing a List as an Argument\n",
    "def func(food):\n",
    "    for x in food:\n",
    "        print(x)\n",
    "fruits=[\"apple\",\"banana\",\"cherry\"]\n",
    "func(fruits)"
   ]
  },
  {
   "cell_type": "code",
   "execution_count": 12,
   "id": "cc0764a9",
   "metadata": {},
   "outputs": [
    {
     "name": "stdout",
     "output_type": "stream",
     "text": [
      "15\n"
     ]
    }
   ],
   "source": [
    "#Return Values\n",
    "def func(x):\n",
    "    return 5*x\n",
    "print(func(3))"
   ]
  },
  {
   "cell_type": "code",
   "execution_count": 16,
   "id": "2fae9151",
   "metadata": {},
   "outputs": [
    {
     "name": "stdout",
     "output_type": "stream",
     "text": [
      "apple\n",
      "banana\n",
      "cherry\n"
     ]
    }
   ],
   "source": [
    "def func(fruits):\n",
    "    for x in fruits:\n",
    "        print(x)\n",
    "fruits=[\"apple\",\"banana\",\"cherry\"]\n",
    "func(fruits)"
   ]
  },
  {
   "cell_type": "code",
   "execution_count": 21,
   "id": "0d647b39",
   "metadata": {},
   "outputs": [
    {
     "name": "stdout",
     "output_type": "stream",
     "text": [
      "recursion result:\n",
      "1\n",
      "3\n",
      "6\n",
      "10\n",
      "15\n",
      "21\n"
     ]
    },
    {
     "data": {
      "text/plain": [
       "21"
      ]
     },
     "execution_count": 21,
     "metadata": {},
     "output_type": "execute_result"
    }
   ],
   "source": [
    "def recursion(k):\n",
    "    if(k>0):\n",
    "        result=k+recursion(k-1)\n",
    "        print(result)\n",
    "        return(result)\n",
    "    else:\n",
    "        result=0\n",
    "        return result\n",
    "print(\"recursion result:\")\n",
    "recursion(6)\n",
    "        \n",
    "    \n",
    "    "
   ]
  },
  {
   "cell_type": "code",
   "execution_count": 24,
   "id": "4be5ce9d",
   "metadata": {},
   "outputs": [
    {
     "name": "stdout",
     "output_type": "stream",
     "text": [
      "recursion result:\n",
      "2\n",
      "6\n",
      "24\n",
      "120\n",
      "720\n"
     ]
    },
    {
     "data": {
      "text/plain": [
       "720"
      ]
     },
     "execution_count": 24,
     "metadata": {},
     "output_type": "execute_result"
    }
   ],
   "source": [
    "def recursion(k):\n",
    "    if(k>1):\n",
    "        result=k*recursion(k-1)\n",
    "        print(result)\n",
    "        return(result)\n",
    "    else:\n",
    "        result=1\n",
    "        return result\n",
    "print(\"recursion result:\")\n",
    "recursion(6)"
   ]
  },
  {
   "cell_type": "code",
   "execution_count": 1,
   "id": "e1e06e57",
   "metadata": {},
   "outputs": [
    {
     "name": "stdout",
     "output_type": "stream",
     "text": [
      "good morning\n"
     ]
    }
   ],
   "source": [
    "def func():\n",
    "    print(\"good morning\")\n",
    "func()"
   ]
  },
  {
   "cell_type": "code",
   "execution_count": 2,
   "id": "a32cab40",
   "metadata": {},
   "outputs": [
    {
     "name": "stdout",
     "output_type": "stream",
     "text": [
      "tejasai manchi\n"
     ]
    }
   ],
   "source": [
    "def func(fname,lname):\n",
    "    print(fname + \" \" +lname)\n",
    "func(\"tejasai\",\"manchi\")"
   ]
  },
  {
   "cell_type": "code",
   "execution_count": 3,
   "id": "f2f5fb87",
   "metadata": {},
   "outputs": [
    {
     "name": "stdout",
     "output_type": "stream",
     "text": [
      "tejasai manchi\n"
     ]
    }
   ],
   "source": [
    "def func(fname,lname):\n",
    "    print(fname,lname)\n",
    "func(\"tejasai\",\"manchi\")"
   ]
  },
  {
   "cell_type": "code",
   "execution_count": 5,
   "id": "df773a5b",
   "metadata": {},
   "outputs": [
    {
     "name": "stdout",
     "output_type": "stream",
     "text": [
      "tejasaimanchi\n"
     ]
    }
   ],
   "source": [
    "def func(fname):\n",
    "    print(fname +\"manchi\")\n",
    "func(\"tejasai\")"
   ]
  },
  {
   "cell_type": "code",
   "execution_count": 7,
   "id": "74d52e91",
   "metadata": {},
   "outputs": [
    {
     "name": "stdout",
     "output_type": "stream",
     "text": [
      "i am from: india\n",
      "i am from: us\n"
     ]
    }
   ],
   "source": [
    "def func(country=\"india\"):\n",
    "    print(\"i am from:\",country)\n",
    "func()\n",
    "func(\"us\")"
   ]
  },
  {
   "cell_type": "code",
   "execution_count": 8,
   "id": "5a4c1dbb",
   "metadata": {},
   "outputs": [
    {
     "name": "stdout",
     "output_type": "stream",
     "text": [
      "the middle name is: manchi\n"
     ]
    }
   ],
   "source": [
    "def func(*fullname):\n",
    "    print(\"the middle name is:\",fullname[2])\n",
    "func(\"teja\",\"sai\",\"manchi\")"
   ]
  },
  {
   "cell_type": "code",
   "execution_count": 11,
   "id": "5b006748",
   "metadata": {},
   "outputs": [
    {
     "name": "stdout",
     "output_type": "stream",
     "text": [
      "the first name is: tejasai\n"
     ]
    }
   ],
   "source": [
    "def func(**fullname):\n",
    "    print(\"the first name is:\",fullname[\"fname\"])\n",
    "func(fname=\"tejasai\",lname=\"manchi\")"
   ]
  },
  {
   "cell_type": "code",
   "execution_count": 12,
   "id": "3680649e",
   "metadata": {},
   "outputs": [
    {
     "name": "stdout",
     "output_type": "stream",
     "text": [
      "teja 20 dbda\n"
     ]
    }
   ],
   "source": [
    "def func(name,age,course):\n",
    "    print(name,age,course)\n",
    "func(\"teja\",20,\"dbda\")"
   ]
  },
  {
   "cell_type": "code",
   "execution_count": 13,
   "id": "b67cd5d5",
   "metadata": {},
   "outputs": [
    {
     "data": {
      "text/plain": [
       "25"
      ]
     },
     "execution_count": 13,
     "metadata": {},
     "output_type": "execute_result"
    }
   ],
   "source": [
    "def func(x):\n",
    "    return 5*x\n",
    "func(5)"
   ]
  },
  {
   "cell_type": "code",
   "execution_count": 18,
   "id": "79f4cfa0",
   "metadata": {},
   "outputs": [
    {
     "name": "stdout",
     "output_type": "stream",
     "text": [
      "apple\n",
      "orange\n"
     ]
    }
   ],
   "source": [
    "def func(fruits):\n",
    "    for x in fruits:\n",
    "        print(x)\n",
    "fruits=[\"apple\",\"orange\"]\n",
    "func(fruits)"
   ]
  },
  {
   "cell_type": "code",
   "execution_count": 17,
   "id": "5b530ac9",
   "metadata": {},
   "outputs": [
    {
     "name": "stdout",
     "output_type": "stream",
     "text": [
      "apple\n",
      "orange\n"
     ]
    }
   ],
   "source": [
    "def func(fruits):\n",
    "    for x in fruits:\n",
    "        print(x)\n",
    "\n",
    "fruits = [\"apple\", \"orange\"]\n",
    "func(fruits)"
   ]
  },
  {
   "cell_type": "code",
   "execution_count": 20,
   "id": "001bad2a",
   "metadata": {},
   "outputs": [
    {
     "name": "stdout",
     "output_type": "stream",
     "text": [
      "1\n",
      "3\n",
      "6\n",
      "10\n",
      "15\n",
      "21\n"
     ]
    },
    {
     "data": {
      "text/plain": [
       "21"
      ]
     },
     "execution_count": 20,
     "metadata": {},
     "output_type": "execute_result"
    }
   ],
   "source": [
    "def recursion(k):\n",
    "    if(k>0):\n",
    "        result=k+recursion(k-1)\n",
    "        print(result)\n",
    "        return(result)\n",
    "    else:\n",
    "        result=0\n",
    "        return result\n",
    "    print(\"recursion result:\")\n",
    "recursion(6)\n"
   ]
  },
  {
   "cell_type": "code",
   "execution_count": 22,
   "id": "1dcfedfd",
   "metadata": {},
   "outputs": [
    {
     "name": "stdout",
     "output_type": "stream",
     "text": [
      "1\n",
      "3\n",
      "6\n",
      "10\n",
      "15\n",
      "21\n"
     ]
    },
    {
     "data": {
      "text/plain": [
       "21"
      ]
     },
     "execution_count": 22,
     "metadata": {},
     "output_type": "execute_result"
    }
   ],
   "source": [
    "def recursion(k):\n",
    "    if(k>0):\n",
    "        result=k+recursion(k-1)\n",
    "        print(result)\n",
    "        return(result)\n",
    "    else:\n",
    "        result=0\n",
    "        return result\n",
    "    print(\"recursion result:\")\n",
    "recursion(6)"
   ]
  },
  {
   "cell_type": "code",
   "execution_count": 23,
   "id": "75939a83",
   "metadata": {},
   "outputs": [
    {
     "name": "stdout",
     "output_type": "stream",
     "text": [
      "2\n",
      "6\n",
      "24\n",
      "120\n",
      "720\n"
     ]
    },
    {
     "data": {
      "text/plain": [
       "720"
      ]
     },
     "execution_count": 23,
     "metadata": {},
     "output_type": "execute_result"
    }
   ],
   "source": [
    "def recursion(k):\n",
    "    if(k>1):\n",
    "        result=k*recursion(k-1)\n",
    "        print(result)\n",
    "        return(result)\n",
    "    else:\n",
    "        result=1\n",
    "        return result\n",
    "    print(\"recursion result:\")\n",
    "recursion(6)"
   ]
  },
  {
   "cell_type": "code",
   "execution_count": 2,
   "id": "7c770881",
   "metadata": {},
   "outputs": [
    {
     "name": "stdout",
     "output_type": "stream",
     "text": [
      "2\n",
      "6\n",
      "24\n",
      "120\n",
      "720\n"
     ]
    },
    {
     "data": {
      "text/plain": [
       "720"
      ]
     },
     "execution_count": 2,
     "metadata": {},
     "output_type": "execute_result"
    }
   ],
   "source": [
    "def recursion(k):\n",
    "    if (k>1):\n",
    "        result=k*recursion(k-1)\n",
    "        print(result)\n",
    "        return(result)\n",
    "    else:\n",
    "        result=1\n",
    "        return result\n",
    "    print(\"recursion results:\")\n",
    "recursion(6)\n",
    "    \n",
    "    \n",
    "    \n",
    "    \n",
    "    "
   ]
  },
  {
   "cell_type": "code",
   "execution_count": 4,
   "id": "ee89ab3e",
   "metadata": {},
   "outputs": [
    {
     "name": "stdout",
     "output_type": "stream",
     "text": [
      "['apple', 'orange', 'banana', 'cherry']\n",
      "['apple', 'orange', 'banana', 'cherry', 'papaya']\n",
      "['apple', 'orange', 'watermelon', 'cherry', 'papaya']\n",
      "['apple', 'orange', 'watermelon', 'papaya']\n",
      "orange\n"
     ]
    }
   ],
   "source": [
    "class py_list:\n",
    "    def __init__(self):\n",
    "        self.fruits=[\"apple\",\"orange\",\"banana\",\"cherry\"]\n",
    "    def disp(self):\n",
    "        print(self.fruits)\n",
    "    def insert(self):\n",
    "        self.fruits.append(\"papaya\")\n",
    "        self.disp()\n",
    "    def update(self):\n",
    "        self.fruits[2]=\"watermelon\"\n",
    "        self.disp()\n",
    "    def delete(self):\n",
    "        del self.fruits[3]\n",
    "        self.disp()\n",
    "    def disp1(self):\n",
    "        print(self.fruits[1])\n",
    "\n",
    "obj=py_list()\n",
    "obj.disp()\n",
    "obj.insert()\n",
    "obj.update()\n",
    "obj.delete()\n",
    "obj.disp1()\n",
    "        \n",
    "        \n",
    "        \n",
    "    \n",
    "    \n",
    "    \n",
    "    "
   ]
  },
  {
   "cell_type": "code",
   "execution_count": 6,
   "id": "de3f4791",
   "metadata": {},
   "outputs": [
    {
     "name": "stdout",
     "output_type": "stream",
     "text": [
      "{'apple': 1, 'orange': 2, 'banana': 3, 'cherry': 4}\n",
      "{'apple': 1, 'orange': 2, 'banana': 3, 'cherry': 4, 'papaya': 7}\n",
      "{'apple': 1, 'orange': 10, 'banana': 3, 'cherry': 4, 'papaya': 7}\n",
      "{'orange': 10, 'banana': 3, 'cherry': 4, 'papaya': 7}\n",
      "3\n"
     ]
    }
   ],
   "source": [
    "class py_dict:\n",
    "    def __init__(self):\n",
    "        self.data={\"apple\":1,\"orange\":2,\"banana\":3,\"cherry\":4}\n",
    "    def disp(self):\n",
    "        print(self.data)\n",
    "    def insert(self,key,value):\n",
    "        self.data[key]=value\n",
    "        self.disp()\n",
    "    def update(self,key,value):\n",
    "        self.data[key]=value\n",
    "        self.disp()\n",
    "    def delete(self,key):\n",
    "        del self.data[key]\n",
    "        self.disp()\n",
    "    def get_value(self,key):\n",
    "        print(self.data.get(key,\"key not found\"))\n",
    "\n",
    "obj=py_dict()\n",
    "obj.disp()\n",
    "obj.insert(\"papaya\",7)\n",
    "obj.update(\"orange\",10)\n",
    "obj.delete(\"apple\")\n",
    "obj.get_value(\"banana\")\n",
    "\n",
    "        \n",
    "        \n",
    "        \n",
    "        \n",
    "        "
   ]
  },
  {
   "cell_type": "code",
   "execution_count": 7,
   "id": "fb52dc29",
   "metadata": {},
   "outputs": [
    {
     "name": "stdout",
     "output_type": "stream",
     "text": [
      "Directory:\n",
      "Name: John, Age: 30, Country: USA\n",
      "Name: Alice, Age: 25, Country: Canada\n",
      "Name: Bob, Age: 35, Country: UK\n",
      "Alice's entry has been deleted.\n",
      "No entry found for Dave.\n",
      "Directory:\n",
      "Name: John, Age: 30, Country: USA\n",
      "Name: Bob, Age: 35, Country: UK\n"
     ]
    }
   ],
   "source": [
    "class DirectoryDict:\n",
    "    def __init__(self):\n",
    "        self.directory = {}\n",
    "\n",
    "    def add_entry(self, name, age, country):\n",
    "        self.directory[name] = {'age': age, 'country': country}\n",
    "\n",
    "    def delete_entry(self, name):\n",
    "        if name in self.directory:\n",
    "            del self.directory[name]\n",
    "            print(f\"{name}'s entry has been deleted.\")\n",
    "        else:\n",
    "            print(f\"No entry found for {name}.\")\n",
    "\n",
    "    def display_directory(self):\n",
    "        print(\"Directory:\")\n",
    "        for name, info in self.directory.items():\n",
    "            print(f\"Name: {name}, Age: {info['age']}, Country: {info['country']}\")\n",
    "\n",
    "# Example usage:\n",
    "directory = DirectoryDict()\n",
    "directory.add_entry(\"John\", 30, \"USA\")\n",
    "directory.add_entry(\"Alice\", 25, \"Canada\")\n",
    "directory.add_entry(\"Bob\", 35, \"UK\")\n",
    "\n",
    "directory.display_directory()\n",
    "\n",
    "directory.delete_entry(\"Alice\")\n",
    "directory.delete_entry(\"Dave\")\n",
    "\n",
    "directory.display_directory()"
   ]
  },
  {
   "cell_type": "code",
   "execution_count": 17,
   "id": "9357e16d",
   "metadata": {},
   "outputs": [
    {
     "name": "stdout",
     "output_type": "stream",
     "text": [
      "{'john': {'age': 30, 'country': 'usa'}, 'teja': {'age': 21, 'country': 'india'}, 'mouni': {'age': 23, 'country': 'uk'}}\n",
      "\n",
      "\n",
      "{'john': {'age': 30, 'country': 'usa'}, 'teja': {'age': 21, 'country': 'india'}, 'mouni': {'age': 23, 'country': 'uk'}, 'David': {'age': 40, 'country': 'Australia'}}\n",
      "{'john': {'age': 30, 'country': 'usa'}, 'teja': {'age': 25, 'country': 'india'}, 'mouni': {'age': 23, 'country': 'uk'}, 'David': {'age': 40, 'country': 'Australia'}}\n",
      "David's entry has been deleted.\n",
      "{'john': {'age': 30, 'country': 'usa'}, 'teja': {'age': 25, 'country': 'india'}, 'mouni': {'age': 23, 'country': 'uk'}}\n"
     ]
    }
   ],
   "source": [
    "class Directorydict:\n",
    "    def __init__(self):\n",
    "        self.directory={\"john\":{\"age\":30,\"country\":\"usa\"},\n",
    "                        \"teja\":{\"age\":21,\"country\":\"india\"},\n",
    "                        \"mouni\":{\"age\":23,\"country\":\"uk\"}}\n",
    "    def disp(self):\n",
    "        print(self.directory)\n",
    "    def insert(self,name,age,country):\n",
    "        self.directory[name]={\"age\":age,\"country\":country}\n",
    "        self.disp()\n",
    "    def update(self,name,age,country):\n",
    "        self.directory[name]={\"age\":age,\"country\":country}\n",
    "        self.disp()\n",
    "    def delete(self, name):\n",
    "        if name in self.directory:\n",
    "            del self.directory[name]\n",
    "            print(f\"{name}'s entry has been deleted.\")\n",
    "            self.disp()\n",
    "        else:\n",
    "            print(f\"No entry found for {name}.\")\n",
    "directory =Directorydict()\n",
    "directory.disp()\n",
    "print(\"\\n\")\n",
    "directory.insert(\"David\", 40, \"Australia\")\n",
    "directory.update(\"teja\", age=25,country=\"india\")\n",
    "directory.delete(\"David\")  "
   ]
  },
  {
   "cell_type": "code",
   "execution_count": 27,
   "id": "3d976bf7",
   "metadata": {},
   "outputs": [
    {
     "name": "stdout",
     "output_type": "stream",
     "text": [
      "{'teja': {'age': 21, 'country': 'india'}, 'preethi': {'age': 22, 'country': 'us'}, 'mouni': {'age': 24, 'country': 'uk'}}\n",
      "Inserting:\n",
      "{'teja': {'age': 21, 'country': 'india'}, 'preethi': {'age': 22, 'country': 'us'}, 'mouni': {'age': 24, 'country': 'uk'}, 'ragini': {'age': 24, 'country': 'london'}}\n",
      "{'teja': {'age': '18', 'country': 'india'}, 'preethi': {'age': 22, 'country': 'us'}, 'mouni': {'age': 24, 'country': 'uk'}, 'ragini': {'age': 24, 'country': 'london'}}\n",
      "preethi's entry has been deleted\n",
      "{'teja': {'age': '18', 'country': 'india'}, 'mouni': {'age': 24, 'country': 'uk'}, 'ragini': {'age': 24, 'country': 'london'}}\n"
     ]
    }
   ],
   "source": [
    "class directorydict:\n",
    "    def __init__(self):\n",
    "        self.directory={\"teja\":{\"age\":21,\"country\":\"india\"},\n",
    "                      \"preethi\":{\"age\":22,\"country\":\"us\"},\n",
    "                      \"mouni\":{\"age\":24,\"country\":\"uk\"}}\n",
    "    def disp(self):\n",
    "        print(self.directory)\n",
    "    def insert(self,name,age,country):\n",
    "        print(\"Inserting:\")\n",
    "        self.directory[name]={\"age\":age,\"country\":country}\n",
    "        self.disp()\n",
    "    def update(self,name,age,country):\n",
    "        self.directory[name]={\"age\":age,\"country\":country}\n",
    "        self.disp()\n",
    "    def delete(self,name):\n",
    "        if name in self.directory:\n",
    "            del self.directory[name]\n",
    "            print(f\"{name}'s entry has been deleted\")\n",
    "            self.disp()\n",
    "        else:\n",
    "            print(f\"entry not found{name}\")\n",
    "directory=directorydict()\n",
    "directory.disp()\n",
    "directory.insert(\"ragini\",24,\"london\")\n",
    "directory.update(\"teja\",\"18\",\"india\")\n",
    "directory.delete(\"preethi\")\n",
    "            "
   ]
  },
  {
   "cell_type": "code",
   "execution_count": 31,
   "id": "99738f9a",
   "metadata": {},
   "outputs": [
    {
     "name": "stdout",
     "output_type": "stream",
     "text": [
      "{'teja': {'age': 21, 'country': 'india'}, 'preethi': {'age': 22, 'country': 'us'}}\n",
      "inserting:\n",
      "{'teja': {'age': 21, 'country': 'india'}, 'preethi': {'age': 22, 'country': 'us'}, 'ragini': {'age': 24, 'country': 'london'}}\n",
      "updating:\n",
      "{'teja': {'age': 20, 'country': 'india'}, 'preethi': {'age': 22, 'country': 'us'}, 'ragini': {'age': 24, 'country': 'london'}}\n",
      "preethi's entry has been deleted\n",
      "{'teja': {'age': 20, 'country': 'india'}, 'ragini': {'age': 24, 'country': 'london'}}\n"
     ]
    }
   ],
   "source": [
    "class dirdict:\n",
    "    def __init__(self):\n",
    "        self.directory={\"teja\":{\"age\":21,\"country\":\"india\"},\n",
    "                       \"preethi\":{\"age\":22,\"country\":\"us\"}}\n",
    "    def disp(self):\n",
    "        print(self.directory)\n",
    "    def insert(self,name,age,country):\n",
    "        print(\"inserting:\")\n",
    "        self.directory[name]={\"age\":age,\"country\":country}\n",
    "        self.disp()\n",
    "    def update(self,name,age,country):\n",
    "        print(\"updating:\")\n",
    "        self.directory[name]={\"age\":age,\"country\":country}\n",
    "        self.disp()\n",
    "    def delete(self,name):\n",
    "        if name in self.directory:\n",
    "            del self.directory[name]\n",
    "            print(f\"{name}'s entry has been deleted\")\n",
    "            self.disp()\n",
    "        else:\n",
    "            print(f\"no found{name}\")\n",
    "directoy=dirdict()\n",
    "directoy.disp()\n",
    "directoy.insert(\"ragini\",24,\"london\")\n",
    "directoy.update(\"teja\",20,\"india\")\n",
    "directoy.delete(\"preethi\")\n",
    "    \n",
    "    \n",
    "    \n",
    "    \n",
    "    \n",
    "    "
   ]
  },
  {
   "cell_type": "code",
   "execution_count": null,
   "id": "da018bee",
   "metadata": {},
   "outputs": [],
   "source": []
  }
 ],
 "metadata": {
  "kernelspec": {
   "display_name": "Python 3 (ipykernel)",
   "language": "python",
   "name": "python3"
  },
  "language_info": {
   "codemirror_mode": {
    "name": "ipython",
    "version": 3
   },
   "file_extension": ".py",
   "mimetype": "text/x-python",
   "name": "python",
   "nbconvert_exporter": "python",
   "pygments_lexer": "ipython3",
   "version": "3.9.13"
  }
 },
 "nbformat": 4,
 "nbformat_minor": 5
}
