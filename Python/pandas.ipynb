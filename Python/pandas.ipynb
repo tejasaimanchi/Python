{
 "cells": [
  {
   "cell_type": "code",
   "execution_count": 13,
   "id": "9eb0d73c",
   "metadata": {},
   "outputs": [
    {
     "name": "stdout",
     "output_type": "stream",
     "text": [
      "0    1\n",
      "1    7\n",
      "2    2\n",
      "dtype: int64\n"
     ]
    }
   ],
   "source": [
    "#Pandas Series\n",
    "# simple Pandas Series\n",
    "import pandas as pd\n",
    "a=[1,7,2]\n",
    "var=pd.Series(a)\n",
    "print(var)"
   ]
  },
  {
   "cell_type": "code",
   "execution_count": 14,
   "id": "4c32b092",
   "metadata": {},
   "outputs": [
    {
     "name": "stdout",
     "output_type": "stream",
     "text": [
      "x    1\n",
      "y    7\n",
      "z    2\n",
      "dtype: int64\n",
      "1\n",
      "1\n"
     ]
    }
   ],
   "source": [
    "# Create Labels-with the index argument\n",
    "import pandas as pd\n",
    "a=[1,7,2]\n",
    "var=pd.Series(a,index=[\"x\",\"y\",\"z\"])\n",
    "print(var)\n",
    "# With label:\n",
    "print(var[\"x\"])\n",
    "# Without label:\n",
    "print(var[0])"
   ]
  },
  {
   "cell_type": "code",
   "execution_count": 15,
   "id": "4c1b1090",
   "metadata": {},
   "outputs": [
    {
     "name": "stdout",
     "output_type": "stream",
     "text": [
      "day1    200\n",
      "day2    300\n",
      "day3    400\n",
      "dtype: int64\n",
      "200\n",
      "400\n"
     ]
    }
   ],
   "source": [
    "# Key/Value Objects as Series\n",
    "import pandas as pd\n",
    "calories={\"day1\":200,\"day2\":300,\"day3\":400}\n",
    "var=pd.Series(calories)\n",
    "print(var)\n",
    "print(var[0])\n",
    "print(var[\"day3\"])"
   ]
  },
  {
   "cell_type": "code",
   "execution_count": 16,
   "id": "421c819b",
   "metadata": {},
   "outputs": [
    {
     "name": "stdout",
     "output_type": "stream",
     "text": [
      "[10, 20, 30, 40]\n",
      "0    10\n",
      "1    20\n",
      "2    30\n",
      "3    40\n",
      "dtype: int64\n"
     ]
    }
   ],
   "source": [
    "#examples of series\n",
    "import pandas as pd\n",
    "mylist=[10,20,30,40]\n",
    "print(mylist)\n",
    "Series=pd.Series(mylist)\n",
    "print(Series)"
   ]
  },
  {
   "cell_type": "code",
   "execution_count": 17,
   "id": "d515e542",
   "metadata": {},
   "outputs": [
    {
     "name": "stdout",
     "output_type": "stream",
     "text": [
      "A    10\n",
      "B    20\n",
      "C    30\n",
      "D    40\n",
      "dtype: int64\n"
     ]
    }
   ],
   "source": [
    "import pandas as pd\n",
    "mylist=[10,20,30,40]\n",
    "Series=pd.Series(mylist,index=[\"A\",\"B\",\"C\",\"D\"])\n",
    "print(Series)"
   ]
  },
  {
   "cell_type": "code",
   "execution_count": 18,
   "id": "3ee05931",
   "metadata": {},
   "outputs": [
    {
     "name": "stdout",
     "output_type": "stream",
     "text": [
      "A     apple\n",
      "B    orange\n",
      "C    banana\n",
      "D    cherry\n",
      "dtype: object\n",
      "apple\n"
     ]
    }
   ],
   "source": [
    "import pandas as pd\n",
    "fruits=[\"apple\",\"orange\",\"banana\",\"cherry\"]\n",
    "Series=pd.Series(fruits,index=[\"A\",\"B\",\"C\",\"D\"])\n",
    "print(Series)\n",
    "print(Series[\"A\"])"
   ]
  },
  {
   "cell_type": "code",
   "execution_count": 19,
   "id": "e4a46140",
   "metadata": {},
   "outputs": [
    {
     "name": "stdout",
     "output_type": "stream",
     "text": [
      "car1      BMW\n",
      "car2    Volvo\n",
      "car3     Ford\n",
      "dtype: object\n"
     ]
    }
   ],
   "source": [
    "import pandas as pd\n",
    "mydataset={\"car1\":\"BMW\",\"car2\":\"Volvo\",\"car3\":\"Ford\"}\n",
    "myvar=pd.Series(mydataset)\n",
    "print(myvar)"
   ]
  },
  {
   "cell_type": "code",
   "execution_count": 20,
   "id": "22a4f747",
   "metadata": {},
   "outputs": [
    {
     "name": "stdout",
     "output_type": "stream",
     "text": [
      "    cars  passings\n",
      "0    bmw         3\n",
      "1  volvo         5\n",
      "2   ford         7\n"
     ]
    }
   ],
   "source": [
    "# DataFrames\n",
    "import pandas as pd\n",
    "data={\"cars\":[\"bmw\",\"volvo\",\"ford\"],\"passings\":[3,5,7]}\n",
    "var=pd.DataFrame(data)\n",
    "print(var)"
   ]
  },
  {
   "cell_type": "code",
   "execution_count": 22,
   "id": "1487cc88",
   "metadata": {},
   "outputs": [
    {
     "name": "stdout",
     "output_type": "stream",
     "text": [
      "   calories  duration\n",
      "0       200        20\n",
      "1       300        30\n",
      "2       400        40\n"
     ]
    }
   ],
   "source": [
    "import pandas as pd\n",
    "data={\"calories\":[200,300,400],\"duration\":[20,30,40]}\n",
    "df=pd.DataFrame(data)\n",
    "print(df)"
   ]
  },
  {
   "cell_type": "code",
   "execution_count": 25,
   "id": "04b55f0b",
   "metadata": {},
   "outputs": [
    {
     "name": "stdout",
     "output_type": "stream",
     "text": [
      "   calories  duration\n",
      "0       200        20\n",
      "1       300        30\n",
      "2       400        40\n",
      "calories    200\n",
      "duration     20\n",
      "Name: 0, dtype: int64\n"
     ]
    }
   ],
   "source": [
    "#Locate Row\n",
    "import pandas as pd\n",
    "data={\"calories\":[200,300,400],\"duration\":[20,30,40]}\n",
    "df=pd.DataFrame(data)\n",
    "print(df)\n",
    "# Return row 0:\n",
    "print(df.loc[0])"
   ]
  },
  {
   "cell_type": "code",
   "execution_count": 27,
   "id": "fc6cedf4",
   "metadata": {},
   "outputs": [
    {
     "name": "stdout",
     "output_type": "stream",
     "text": [
      "   calories  duration\n",
      "0       200        20\n",
      "1       300        30\n",
      "2       400        40\n",
      "   calories  duration\n",
      "0       200        20\n",
      "1       300        30\n"
     ]
    }
   ],
   "source": [
    "import pandas as pd\n",
    "data={\"calories\":[200,300,400],\"duration\":[20,30,40]}\n",
    "df=pd.DataFrame(data)\n",
    "print(df)\n",
    "# Return row 0 and 1:\n",
    "print(df.loc[[0,1]])"
   ]
  },
  {
   "cell_type": "code",
   "execution_count": 31,
   "id": "d30ff4ee",
   "metadata": {},
   "outputs": [
    {
     "name": "stdout",
     "output_type": "stream",
     "text": [
      "        Name  Age  Income($)\n",
      "0        Rob   27      70000\n",
      "1    Michael   29      90000\n",
      "2      Mohan   29      61000\n",
      "3     Ismail   28      60000\n",
      "4       Kory   42     150000\n",
      "5     Gautam   39     155000\n",
      "6      David   41     160000\n",
      "7     Andrea   38     162000\n",
      "8       Brad   36     156000\n",
      "9   Angelina   35     130000\n",
      "10    Donald   37     137000\n",
      "11       Tom   26      45000\n",
      "12    Arnold   27      48000\n",
      "13     Jared   28      51000\n",
      "14     Stark   29      49500\n",
      "15    Ranbir   32      53000\n",
      "16    Dipika   40      65000\n",
      "17  Priyanka   41      63000\n",
      "18      Nick   43      64000\n",
      "19      Alia   39      80000\n",
      "20       Sid   41      82000\n",
      "21     Abdul   39      58000\n"
     ]
    }
   ],
   "source": [
    "# Read CSV-\n",
    "# A simple way to store big data sets is to use CSV files\n",
    "import pandas as pd\n",
    "df=pd.read_csv('income.csv')\n",
    "# print(df.to_string())\n",
    "print(df)\n",
    "\n",
    "\n",
    "\n"
   ]
  },
  {
   "cell_type": "code",
   "execution_count": 30,
   "id": "58785f9f",
   "metadata": {},
   "outputs": [
    {
     "name": "stdout",
     "output_type": "stream",
     "text": [
      "        Name  Age  Income($)\n",
      "0        Rob   27      70000\n",
      "1    Michael   29      90000\n",
      "2      Mohan   29      61000\n",
      "3     Ismail   28      60000\n",
      "4       Kory   42     150000\n",
      "5     Gautam   39     155000\n",
      "6      David   41     160000\n",
      "7     Andrea   38     162000\n",
      "8       Brad   36     156000\n",
      "9   Angelina   35     130000\n",
      "10    Donald   37     137000\n",
      "11       Tom   26      45000\n",
      "12    Arnold   27      48000\n",
      "13     Jared   28      51000\n",
      "14     Stark   29      49500\n",
      "15    Ranbir   32      53000\n",
      "16    Dipika   40      65000\n",
      "17  Priyanka   41      63000\n",
      "18      Nick   43      64000\n",
      "19      Alia   39      80000\n",
      "20       Sid   41      82000\n",
      "21     Abdul   39      58000\n"
     ]
    }
   ],
   "source": [
    "# use to_string() to print the entire DataFrame\n",
    "import pandas as pd\n",
    "df=pd.read_csv('income.csv')\n",
    "print(df.to_string())\n"
   ]
  },
  {
   "cell_type": "code",
   "execution_count": 32,
   "id": "7a9304b5",
   "metadata": {},
   "outputs": [
    {
     "name": "stdout",
     "output_type": "stream",
     "text": [
      "    fname   lname address\n",
      "0    teja  manchi     vij\n",
      "1  ragini     NaN      up\n",
      "2     NaN   reddy     hyd\n",
      "3    nani    john     hyd\n"
     ]
    }
   ],
   "source": [
    "import pandas as pd\n",
    "df=pd.read_csv('sample.csv')\n",
    "print(df)"
   ]
  },
  {
   "cell_type": "code",
   "execution_count": 35,
   "id": "13ee5918",
   "metadata": {},
   "outputs": [
    {
     "name": "stdout",
     "output_type": "stream",
     "text": [
      "      Name  Age  Income($)\n",
      "0      Rob   27      70000\n",
      "1  Michael   29      90000\n",
      "2    Mohan   29      61000\n",
      "3   Ismail   28      60000\n",
      "4     Kory   42     150000\n",
      "        Name  Age  Income($)\n",
      "17  Priyanka   41      63000\n",
      "18      Nick   43      64000\n",
      "19      Alia   39      80000\n",
      "20       Sid   41      82000\n",
      "21     Abdul   39      58000\n",
      "<class 'pandas.core.frame.DataFrame'>\n",
      "RangeIndex: 22 entries, 0 to 21\n",
      "Data columns (total 3 columns):\n",
      " #   Column     Non-Null Count  Dtype \n",
      "---  ------     --------------  ----- \n",
      " 0   Name       22 non-null     object\n",
      " 1   Age        22 non-null     int64 \n",
      " 2   Income($)  22 non-null     int64 \n",
      "dtypes: int64(2), object(1)\n",
      "memory usage: 656.0+ bytes\n",
      "None\n"
     ]
    }
   ],
   "source": [
    "import pandas as pd\n",
    "df=pd.read_csv('income.csv')\n",
    "# •The head() method returns the headers and a specified number of rows, starting from the top\n",
    "print(df.head(5))\n",
    "print(df.tail(5))\n",
    "print(df.info())"
   ]
  },
  {
   "cell_type": "code",
   "execution_count": 39,
   "id": "c2db2992",
   "metadata": {},
   "outputs": [
    {
     "name": "stdout",
     "output_type": "stream",
     "text": [
      "        Name  Age  Income($)\n",
      "0        Rob   27      70000\n",
      "1    Michael   29      90000\n",
      "2      Mohan   29      61000\n",
      "3     Ismail   28      60000\n",
      "4       Kory   42     150000\n",
      "..       ...  ...        ...\n",
      "17  Priyanka   41      63000\n",
      "18      Nick   43      64000\n",
      "19      Alia   39      80000\n",
      "20       Sid   41      82000\n",
      "21     Abdul   39      58000\n",
      "\n",
      "[22 rows x 3 columns]\n"
     ]
    }
   ],
   "source": [
    "# If you have a large DataFrame with many rows, Pandas will only return the first 5 rows,\n",
    "# and the last 5 rows:\n",
    "import pandas as pd\n",
    "pd.options.display.max_rows=10\n",
    "df=pd.read_csv('income.csv')\n",
    "print(df)"
   ]
  },
  {
   "cell_type": "code",
   "execution_count": 40,
   "id": "61846f10",
   "metadata": {},
   "outputs": [
    {
     "name": "stdout",
     "output_type": "stream",
     "text": [
      "    fname   lname address\n",
      "0    teja  manchi     vij\n",
      "1  ragini     NaN      up\n",
      "2     NaN   reddy     hyd\n",
      "3    nani    john     hyd\n"
     ]
    }
   ],
   "source": [
    "# Cleaning Empty Cells\n",
    "# Remove Rows\n",
    "import pandas as pd\n",
    "df=pd.read_csv('sample.csv')\n",
    "print(df)"
   ]
  },
  {
   "cell_type": "code",
   "execution_count": 41,
   "id": "022e74f5",
   "metadata": {},
   "outputs": [
    {
     "name": "stdout",
     "output_type": "stream",
     "text": [
      "  fname   lname address\n",
      "0  teja  manchi     vij\n",
      "3  nani    john     hyd\n"
     ]
    }
   ],
   "source": [
    "# Return a new Data Frame with no empty cells\n",
    "import pandas as pd\n",
    "df=pd.read_csv('sample.csv')\n",
    "new_df=df.dropna()\n",
    "print(new_df.to_string())"
   ]
  },
  {
   "cell_type": "code",
   "execution_count": 43,
   "id": "a9ec557a",
   "metadata": {},
   "outputs": [
    {
     "name": "stdout",
     "output_type": "stream",
     "text": [
      "  fname   lname address\n",
      "0  teja  manchi     vij\n",
      "3  nani    john     hyd\n"
     ]
    }
   ],
   "source": [
    "import pandas as pd\n",
    "df=pd.read_csv('sample.csv')\n",
    "df.dropna(inplace=True)\n",
    "print(df.to_string())"
   ]
  },
  {
   "cell_type": "code",
   "execution_count": 44,
   "id": "540dff42",
   "metadata": {},
   "outputs": [
    {
     "name": "stdout",
     "output_type": "stream",
     "text": [
      "    fname   lname address\n",
      "0    teja  manchi     vij\n",
      "1  ragini  darshe      up\n",
      "2  darshe   reddy     hyd\n",
      "3    nani    john     hyd\n"
     ]
    }
   ],
   "source": [
    "# Replace Empty Values\n",
    "import pandas as pd\n",
    "df=pd.read_csv('sample.csv')\n",
    "df.fillna(\"darshe\",inplace=True)\n",
    "print(df.to_string())"
   ]
  },
  {
   "cell_type": "code",
   "execution_count": 46,
   "id": "3d4d1c05",
   "metadata": {},
   "outputs": [
    {
     "name": "stdout",
     "output_type": "stream",
     "text": [
      "    fname   lname address\n",
      "0    teja  manchi     vij\n",
      "1  ragini     NaN      up\n",
      "2  darshe   reddy     hyd\n",
      "3    nani    john     hyd\n"
     ]
    }
   ],
   "source": [
    "# Replace Only For Specified Columns\n",
    "import pandas as pd\n",
    "df=pd.read_csv('sample.csv')\n",
    "df[\"fname\"].fillna(\"darshe\",inplace=True)\n",
    "print(df.to_string())"
   ]
  },
  {
   "cell_type": "code",
   "execution_count": 51,
   "id": "82e3a294",
   "metadata": {},
   "outputs": [
    {
     "name": "stdout",
     "output_type": "stream",
     "text": [
      "     fname    lname\n",
      "0     teja     john\n",
      "1      NaN  lakshmi\n",
      "2   manchi    singh\n",
      "3  preethi      doe\n"
     ]
    }
   ],
   "source": [
    "import pandas as pd\n",
    "df=pd.read_csv('data.csv')\n",
    "df.loc[df[\"lname\"].isnull(),\"lname\"]=[\"john\",\"doe\"]\n",
    "print(df.to_string())"
   ]
  },
  {
   "cell_type": "code",
   "execution_count": 57,
   "id": "85c3c1b5",
   "metadata": {},
   "outputs": [
    {
     "name": "stdout",
     "output_type": "stream",
     "text": [
      "0    False\n",
      "1    False\n",
      "2    False\n",
      "3    False\n",
      "dtype: bool\n"
     ]
    }
   ],
   "source": [
    "# Removing Duplicates\n",
    "import pandas as pd\n",
    "df=pd.read_csv('data1.csv')\n",
    "print(df.duplicated())"
   ]
  },
  {
   "cell_type": "code",
   "execution_count": 58,
   "id": "118d3d10",
   "metadata": {},
   "outputs": [
    {
     "name": "stdout",
     "output_type": "stream",
     "text": [
      "<bound method DataFrame.to_string of      fname    lname\n",
      "0     teja      NaN\n",
      "1      NaN  lakshmi\n",
      "2   manchi    singh\n",
      "3  preethi    singh>\n"
     ]
    }
   ],
   "source": [
    "import pandas as pd\n",
    "df=pd.read_csv('data1.csv')\n",
    "df.drop_duplicates(inplace=True)\n",
    "print(df.to_string)"
   ]
  },
  {
   "cell_type": "code",
   "execution_count": 4,
   "id": "1a0701b0",
   "metadata": {},
   "outputs": [
    {
     "name": "stdout",
     "output_type": "stream",
     "text": [
      "     fname    lname  add      mobile\n",
      "0     teja      NaN  vij  9390151089\n",
      "1      NaN  lakshmi  hyd     2345678\n",
      "2   manchi    singh   up  1234567890\n",
      "3  preethi      NaN   ad   987654321\n"
     ]
    }
   ],
   "source": [
    "import pandas as pd\n",
    "df=pd.read_csv('data.csv')\n",
    "print(df)"
   ]
  },
  {
   "cell_type": "code",
   "execution_count": 3,
   "id": "a146aef6",
   "metadata": {},
   "outputs": [
    {
     "name": "stdout",
     "output_type": "stream",
     "text": [
      "0     True\n",
      "1    False\n",
      "2    False\n",
      "3     True\n",
      "Name: lname, dtype: bool\n"
     ]
    }
   ],
   "source": [
    "import pandas as pd\n",
    "df=pd.read_csv('data.csv')\n",
    "print(df[\"lname\"].isnull())"
   ]
  },
  {
   "cell_type": "code",
   "execution_count": 5,
   "id": "0f853831",
   "metadata": {},
   "outputs": [
    {
     "name": "stdout",
     "output_type": "stream",
     "text": [
      "     fname    lname  add      mobile\n",
      "0     teja   manchi  vij  9390151089\n",
      "1      NaN  lakshmi  hyd     2345678\n",
      "2   manchi    singh   up  1234567890\n",
      "3  preethi   manchi   ad   987654321\n"
     ]
    }
   ],
   "source": [
    "import pandas as pd\n",
    "df=pd.read_csv('data.csv')\n",
    "df[\"lname\"].fillna(\"manchi\",inplace=True)\n",
    "print(df)"
   ]
  },
  {
   "cell_type": "code",
   "execution_count": 8,
   "id": "ed8a9a1d",
   "metadata": {},
   "outputs": [
    {
     "name": "stdout",
     "output_type": "stream",
     "text": [
      "     fname    lname  add      mobile\n",
      "0     teja   manchi  vij  9390151089\n",
      "1      NaN  lakshmi  hyd     2345678\n",
      "2   manchi    singh   up  1234567890\n",
      "3  preethi    mohan   ad   987654321\n"
     ]
    }
   ],
   "source": [
    "import pandas as pd\n",
    "df=pd.read_csv('data.csv')\n",
    "df.loc[df[\"lname\"].isnull(),\"lname\"]=[\"manchi\",\"mohan\"]\n",
    "print(df)"
   ]
  },
  {
   "cell_type": "code",
   "execution_count": 9,
   "id": "9bbee649",
   "metadata": {},
   "outputs": [
    {
     "name": "stdout",
     "output_type": "stream",
     "text": [
      "     fname    lname  add      mobile\n",
      "0     teja      NaN  vij  9390151089\n",
      "1      NaN  lakshmi  hyd  3456789012\n",
      "2   manchi    singh   up  1234567890\n",
      "3  preethi      NaN   ad   987654321\n"
     ]
    }
   ],
   "source": [
    "import pandas as pd\n",
    "df = pd.read_csv('data.csv')\n",
    "df.loc[1,'mobile'] = 3456789012\n",
    "print(df.to_string())"
   ]
  },
  {
   "cell_type": "code",
   "execution_count": 12,
   "id": "75e5bc0f",
   "metadata": {},
   "outputs": [
    {
     "name": "stdout",
     "output_type": "stream",
     "text": [
      "0    False\n",
      "1    False\n",
      "2    False\n",
      "3    False\n",
      "Name: mobile, dtype: bool\n"
     ]
    }
   ],
   "source": [
    "import pandas as pd\n",
    "df=pd.read_csv('data.csv')\n",
    "print(df[\"mobile\"].isnull())\n"
   ]
  },
  {
   "cell_type": "code",
   "execution_count": 13,
   "id": "61680904",
   "metadata": {},
   "outputs": [
    {
     "name": "stdout",
     "output_type": "stream",
     "text": [
      "     fname    lname  add      mobile\n",
      "0     teja      NaN  vij  9390151089\n",
      "1      NaN  lakshmi  hyd     2345678\n",
      "2   manchi    singh   up  1234567890\n",
      "3  preethi      NaN   ad  4567891256\n"
     ]
    }
   ],
   "source": [
    "import pandas as pd\n",
    "df=pd.read_csv('data.csv')\n",
    "df.loc[3,\"mobile\"]=4567891256\n",
    "print(df.to_string())"
   ]
  },
  {
   "cell_type": "code",
   "execution_count": null,
   "id": "9188c680",
   "metadata": {},
   "outputs": [],
   "source": [
    "import pandas as pd\n",
    "df=pd.read_csv('sample.csv')\n",
    "print(df)"
   ]
  }
 ],
 "metadata": {
  "kernelspec": {
   "display_name": "Python 3 (ipykernel)",
   "language": "python",
   "name": "python3"
  },
  "language_info": {
   "codemirror_mode": {
    "name": "ipython",
    "version": 3
   },
   "file_extension": ".py",
   "mimetype": "text/x-python",
   "name": "python",
   "nbconvert_exporter": "python",
   "pygments_lexer": "ipython3",
   "version": "3.9.13"
  }
 },
 "nbformat": 4,
 "nbformat_minor": 5
}
