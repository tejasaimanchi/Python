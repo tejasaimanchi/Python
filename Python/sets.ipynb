{
 "cells": [
  {
   "cell_type": "code",
   "execution_count": 4,
   "id": "8a1d7561",
   "metadata": {},
   "outputs": [
    {
     "name": "stdout",
     "output_type": "stream",
     "text": [
      "{'cherry', 'banana', 'apple'}\n"
     ]
    }
   ],
   "source": [
    "#unordered, unchangeable*, and unindexed\n",
    "#unordered\n",
    "fruits={\"apple\",\"banana\",\"cherry\"}\n",
    "print(fruits)\n"
   ]
  },
  {
   "cell_type": "code",
   "execution_count": 1,
   "id": "a9f6973c",
   "metadata": {},
   "outputs": [
    {
     "name": "stdout",
     "output_type": "stream",
     "text": [
      "{'cherry', 'apple', 'banana'}\n"
     ]
    }
   ],
   "source": [
    "#Duplicates Not Allowed,Duplicate values will be ignored\n",
    "fruits={\"apple\",\"banana\",\"cherry\",\"apple\"}\n",
    "print(fruits)"
   ]
  },
  {
   "cell_type": "code",
   "execution_count": 2,
   "id": "f139bdef",
   "metadata": {},
   "outputs": [
    {
     "name": "stdout",
     "output_type": "stream",
     "text": [
      "3\n"
     ]
    }
   ],
   "source": [
    "#Get the Length of a Set\n",
    "fruits={\"apple\",\"banana\",\"cherry\"}\n",
    "print(len(fruits))"
   ]
  },
  {
   "cell_type": "code",
   "execution_count": 3,
   "id": "68ba9d43",
   "metadata": {},
   "outputs": [
    {
     "name": "stdout",
     "output_type": "stream",
     "text": [
      "<class 'set'>\n"
     ]
    }
   ],
   "source": [
    "#What is the data type of a set?\n",
    "fruits={\"apple\",\"banana\",\"cherry\"}\n",
    "print(type(fruits))"
   ]
  },
  {
   "cell_type": "code",
   "execution_count": 8,
   "id": "d50221f4",
   "metadata": {},
   "outputs": [
    {
     "name": "stdout",
     "output_type": "stream",
     "text": [
      "{1, 'apple', 'male'}\n",
      "{True, 'apple', 'male'}\n",
      "{False, 'apple', 'male'}\n"
     ]
    }
   ],
   "source": [
    "#values True and 1 are considered the same value in sets, and are treated as duplicates\n",
    "set={\"apple\",1,\"male\",True}\n",
    "print(set)\n",
    "set={\"apple\",True,\"male\",1}\n",
    "print(set)\n",
    "set={\"apple\",False,\"male\",0}\n",
    "print(set)"
   ]
  },
  {
   "cell_type": "code",
   "execution_count": 9,
   "id": "43bb706a",
   "metadata": {},
   "outputs": [
    {
     "name": "stdout",
     "output_type": "stream",
     "text": [
      "{40, True, 'apple', 'male'}\n"
     ]
    }
   ],
   "source": [
    "#diff data types are allowed\n",
    "set={\"apple\",40,\"male\",True}\n",
    "print(set)"
   ]
  },
  {
   "cell_type": "code",
   "execution_count": 10,
   "id": "f016e56f",
   "metadata": {},
   "outputs": [
    {
     "name": "stdout",
     "output_type": "stream",
     "text": [
      "cherry\n",
      "apple\n",
      "banana\n"
     ]
    }
   ],
   "source": [
    "#Loop through the set, and print the values\n",
    "fruits={\"apple\",\"banana\",\"cherry\"}\n",
    "for x in fruits:\n",
    "    print(x)"
   ]
  },
  {
   "cell_type": "code",
   "execution_count": 11,
   "id": "c38e1316",
   "metadata": {},
   "outputs": [
    {
     "name": "stdout",
     "output_type": "stream",
     "text": [
      "yes 'banana' is in fruits\n"
     ]
    }
   ],
   "source": [
    "fruits={\"apple\",\"banana\",\"cherry\"}\n",
    "if \"banana\" in fruits:\n",
    "    print(\"yes 'banana' is in fruits\")"
   ]
  },
  {
   "cell_type": "code",
   "execution_count": 13,
   "id": "b47115e2",
   "metadata": {},
   "outputs": [
    {
     "name": "stdout",
     "output_type": "stream",
     "text": [
      "yes 'mango' is in fruits\n"
     ]
    }
   ],
   "source": [
    "fruits={\"apple\",\"banana\",\"cherry\"}\n",
    "if \"mango\" not in fruits:\n",
    "    print(\"yes 'mango' is in fruits\")"
   ]
  },
  {
   "cell_type": "code",
   "execution_count": 3,
   "id": "900ef675",
   "metadata": {},
   "outputs": [
    {
     "name": "stdout",
     "output_type": "stream",
     "text": [
      "{'orange', 'banana', 'cherry', 'apple'}\n"
     ]
    }
   ],
   "source": [
    "#Add an item to a set, using the add() method\n",
    "fruits={\"apple\",\"banana\",\"cherry\"}\n",
    "fruits.add(\"orange\")\n",
    "print(fruits)"
   ]
  },
  {
   "cell_type": "code",
   "execution_count": 3,
   "id": "dc469fc6",
   "metadata": {},
   "outputs": [
    {
     "name": "stdout",
     "output_type": "stream",
     "text": [
      "{'banana', 'mango', 'apple', 'cherry', 'potato', 'carrot'}\n"
     ]
    }
   ],
   "source": [
    "#update can add two sets\n",
    "fruits={\"apple\",\"banana\",\"cherry\",\"mango\"}\n",
    "vegetables={\"carrot\",\"potato\"}\n",
    "fruits.update(vegetables)\n",
    "print(fruits)"
   ]
  },
  {
   "cell_type": "code",
   "execution_count": 4,
   "id": "2cebe10e",
   "metadata": {},
   "outputs": [
    {
     "name": "stdout",
     "output_type": "stream",
     "text": [
      "{'banana', 'mango', 'apple', 'cherry', 'potato', 'carrot'}\n"
     ]
    }
   ],
   "source": [
    "#can add tuples, lists, dictionaries\n",
    "fruits={\"apple\",\"banana\",\"cherry\",\"mango\"}\n",
    "vegetables=[\"carrot\",\"potato\"]\n",
    "fruits.update(vegetables)\n",
    "print(fruits)"
   ]
  },
  {
   "cell_type": "code",
   "execution_count": 6,
   "id": "34bfd3ff",
   "metadata": {},
   "outputs": [
    {
     "name": "stdout",
     "output_type": "stream",
     "text": [
      "{'cherry', 'banana', 'apple'}\n"
     ]
    }
   ],
   "source": [
    "#Remove Item\n",
    "fruits={\"apple\",\"banana\",\"cherry\",\"mango\"}\n",
    "fruits.remove(\"mango\")\n",
    "print(fruits)"
   ]
  },
  {
   "cell_type": "code",
   "execution_count": 7,
   "id": "01cbd6a4",
   "metadata": {},
   "outputs": [
    {
     "name": "stdout",
     "output_type": "stream",
     "text": [
      "{'cherry', 'banana', 'mango', 'apple'}\n"
     ]
    }
   ],
   "source": [
    "#If the item to remove does not exist, discard() will NOT raise an error\n",
    "fruits={\"apple\",\"banana\",\"cherry\",\"mango\"}\n",
    "fruits.discard(\"orange\")\n",
    "print(fruits)"
   ]
  },
  {
   "cell_type": "code",
   "execution_count": 8,
   "id": "d9ffdfac",
   "metadata": {},
   "outputs": [
    {
     "name": "stdout",
     "output_type": "stream",
     "text": [
      "{'banana', 'mango', 'apple'}\n"
     ]
    }
   ],
   "source": [
    "#Remove a random item by using the pop() method:\n",
    "fruits={\"apple\",\"banana\",\"cherry\",\"mango\"}\n",
    "fruits.pop()\n",
    "print(fruits)"
   ]
  },
  {
   "cell_type": "code",
   "execution_count": 9,
   "id": "51edf0f1",
   "metadata": {},
   "outputs": [
    {
     "name": "stdout",
     "output_type": "stream",
     "text": [
      "set()\n"
     ]
    }
   ],
   "source": [
    "#The clear() method empties the set\n",
    "fruits={\"apple\",\"banana\",\"cherry\",\"mango\"}\n",
    "fruits.clear()\n",
    "print(fruits)"
   ]
  },
  {
   "cell_type": "code",
   "execution_count": 10,
   "id": "9a6458d1",
   "metadata": {},
   "outputs": [
    {
     "ename": "NameError",
     "evalue": "name 'fruits' is not defined",
     "output_type": "error",
     "traceback": [
      "\u001b[1;31m---------------------------------------------------------------------------\u001b[0m",
      "\u001b[1;31mNameError\u001b[0m                                 Traceback (most recent call last)",
      "\u001b[1;32m~\\AppData\\Local\\Temp\\ipykernel_5488\\3327264866.py\u001b[0m in \u001b[0;36m<module>\u001b[1;34m\u001b[0m\n\u001b[0;32m      2\u001b[0m \u001b[0mfruits\u001b[0m\u001b[1;33m=\u001b[0m\u001b[1;33m{\u001b[0m\u001b[1;34m\"apple\"\u001b[0m\u001b[1;33m,\u001b[0m\u001b[1;34m\"banana\"\u001b[0m\u001b[1;33m,\u001b[0m\u001b[1;34m\"cherry\"\u001b[0m\u001b[1;33m,\u001b[0m\u001b[1;34m\"mango\"\u001b[0m\u001b[1;33m}\u001b[0m\u001b[1;33m\u001b[0m\u001b[1;33m\u001b[0m\u001b[0m\n\u001b[0;32m      3\u001b[0m \u001b[1;32mdel\u001b[0m \u001b[0mfruits\u001b[0m\u001b[1;33m\u001b[0m\u001b[1;33m\u001b[0m\u001b[0m\n\u001b[1;32m----> 4\u001b[1;33m \u001b[0mprint\u001b[0m\u001b[1;33m(\u001b[0m\u001b[0mfruits\u001b[0m\u001b[1;33m)\u001b[0m\u001b[1;33m\u001b[0m\u001b[1;33m\u001b[0m\u001b[0m\n\u001b[0m",
      "\u001b[1;31mNameError\u001b[0m: name 'fruits' is not defined"
     ]
    }
   ],
   "source": [
    "#The del keyword will delete the set completely\n",
    "fruits={\"apple\",\"banana\",\"cherry\",\"mango\"}\n",
    "del fruits\n",
    "print(fruits)"
   ]
  },
  {
   "cell_type": "code",
   "execution_count": 13,
   "id": "b9603daf",
   "metadata": {},
   "outputs": [
    {
     "name": "stdout",
     "output_type": "stream",
     "text": [
      "{'banana', 'mango', 'apple', 'cherry', 'potato', 'carrot'}\n"
     ]
    }
   ],
   "source": [
    "#join sets\n",
    "fruits={\"apple\",\"banana\",\"cherry\",\"mango\"}\n",
    "vegetables={\"carrot\",\"potato\"}\n",
    "set=fruits.union(vegetables)\n",
    "print(set)"
   ]
  },
  {
   "cell_type": "code",
   "execution_count": null,
   "id": "80ad4112",
   "metadata": {},
   "outputs": [],
   "source": []
  }
 ],
 "metadata": {
  "kernelspec": {
   "display_name": "Python 3 (ipykernel)",
   "language": "python",
   "name": "python3"
  },
  "language_info": {
   "codemirror_mode": {
    "name": "ipython",
    "version": 3
   },
   "file_extension": ".py",
   "mimetype": "text/x-python",
   "name": "python",
   "nbconvert_exporter": "python",
   "pygments_lexer": "ipython3",
   "version": "3.9.13"
  }
 },
 "nbformat": 4,
 "nbformat_minor": 5
}
