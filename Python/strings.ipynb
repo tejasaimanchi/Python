{
 "cells": [
  {
   "cell_type": "code",
   "execution_count": 2,
   "id": "90eb6345",
   "metadata": {},
   "outputs": [
    {
     "name": "stdout",
     "output_type": "stream",
     "text": [
      "hello\n",
      "hi\n"
     ]
    }
   ],
   "source": [
    "a=\"hello\"\n",
    "b='hi'\n",
    "print(a)\n",
    "print(b)"
   ]
  },
  {
   "cell_type": "code",
   "execution_count": 7,
   "id": "49969025",
   "metadata": {},
   "outputs": [
    {
     "name": "stdout",
     "output_type": "stream",
     "text": [
      "red apple\n",
      "red watermelon\n",
      "red cherry\n",
      "big apple\n",
      "big watermelon\n",
      "big cherry\n",
      "tasty apple\n",
      "tasty watermelon\n",
      "tasty cherry\n"
     ]
    }
   ],
   "source": [
    "adj = [\"red\", \"big\", \"tasty\"]\n",
    "fruits = [\"apple\", \"watermelon\", \"cherry\"]\n",
    "for x in adj:\n",
    " for y in fruits:\n",
    "  print(x, y)\n",
    "for x in [0, 1, 2]:\n",
    " pass"
   ]
  },
  {
   "cell_type": "code",
   "execution_count": 9,
   "id": "ee638efa",
   "metadata": {},
   "outputs": [
    {
     "name": "stdout",
     "output_type": "stream",
     "text": [
      "e\n",
      "11\n"
     ]
    }
   ],
   "source": [
    "#String Length\n",
    "a=\"hello world\"\n",
    "print(a[1])\n",
    "print(len(a))"
   ]
  },
  {
   "cell_type": "code",
   "execution_count": 10,
   "id": "2ed84ac3",
   "metadata": {},
   "outputs": [
    {
     "name": "stdout",
     "output_type": "stream",
     "text": [
      "True\n"
     ]
    }
   ],
   "source": [
    "#Check String\n",
    "txt=\"good morning everyone\"\n",
    "print(\"good\" in txt)"
   ]
  },
  {
   "cell_type": "code",
   "execution_count": 13,
   "id": "c510fec8",
   "metadata": {},
   "outputs": [
    {
     "name": "stdout",
     "output_type": "stream",
     "text": [
      "False\n",
      "True\n"
     ]
    }
   ],
   "source": [
    "txt=\"good morning everyone\"\n",
    "print(\"good\" not in txt)\n",
    "print(\"bad\" not in txt)"
   ]
  },
  {
   "cell_type": "code",
   "execution_count": 15,
   "id": "ec9d4a23",
   "metadata": {},
   "outputs": [
    {
     "name": "stdout",
     "output_type": "stream",
     "text": [
      "yes 'good' is present\n"
     ]
    }
   ],
   "source": [
    "txt=\"good morning everyone\"\n",
    "if \"good\" in txt:\n",
    "    print(\"yes 'good' is present\")"
   ]
  },
  {
   "cell_type": "code",
   "execution_count": 19,
   "id": "016f1314",
   "metadata": {},
   "outputs": [
    {
     "name": "stdout",
     "output_type": "stream",
     "text": [
      "llo\n",
      "lo\n",
      "Hello\n",
      ", World!\n"
     ]
    }
   ],
   "source": [
    "b = \"Hello, World!\"\n",
    "print(b[2:5])\n",
    "print(b[3:5])\n",
    "print(b[:5])\n",
    "print(b[5:])"
   ]
  },
  {
   "cell_type": "code",
   "execution_count": 24,
   "id": "62285780",
   "metadata": {},
   "outputs": [
    {
     "name": "stdout",
     "output_type": "stream",
     "text": [
      " hello world \n",
      " HELLO WORLD \n",
      "hello world\n",
      " jello world \n"
     ]
    }
   ],
   "source": [
    "a=\" hello world \"\n",
    "print(a.lower())\n",
    "print(a.upper())\n",
    "print(a.strip())\n",
    "print(a.replace(\"h\",\"j\"))"
   ]
  },
  {
   "cell_type": "code",
   "execution_count": 27,
   "id": "f9281f87",
   "metadata": {},
   "outputs": [
    {
     "name": "stdout",
     "output_type": "stream",
     "text": [
      "hello world\n"
     ]
    }
   ],
   "source": [
    "a=\"hello\"\n",
    "b=\"world\"\n",
    "c=a+b\n",
    "c=a+ \" \" +b\n",
    "print(c)"
   ]
  },
  {
   "cell_type": "code",
   "execution_count": 8,
   "id": "a0fd9d92",
   "metadata": {},
   "outputs": [
    {
     "name": "stdout",
     "output_type": "stream",
     "text": [
      "orl\n"
     ]
    }
   ],
   "source": [
    "b = \"Hello, World!\"\n",
    "print(b[-5:-2])"
   ]
  },
  {
   "cell_type": "code",
   "execution_count": 29,
   "id": "a1057000",
   "metadata": {},
   "outputs": [
    {
     "name": "stdout",
     "output_type": "stream",
     "text": [
      "my name is teja,and my age is 21\n"
     ]
    }
   ],
   "source": [
    "#String Format\n",
    "age=21\n",
    "txt=\"my name is teja,and my age is {}\"\n",
    "print(txt.format(age))"
   ]
  },
  {
   "cell_type": "code",
   "execution_count": 35,
   "id": "154a3b12",
   "metadata": {},
   "outputs": [
    {
     "name": "stdout",
     "output_type": "stream",
     "text": [
      "my name is teja and my age is 21\n"
     ]
    }
   ],
   "source": [
    "age=21\n",
    "txt=\"my name is teja and my age is {}\"\n",
    "print(txt.format(age))\n"
   ]
  },
  {
   "cell_type": "code",
   "execution_count": 1,
   "id": "443e56e2",
   "metadata": {},
   "outputs": [
    {
     "name": "stdout",
     "output_type": "stream",
     "text": [
      "I want to pay 49.95 dollars for 3 pieces of item 567.\n"
     ]
    }
   ],
   "source": [
    "quantity = 3\n",
    "itemno = 567\n",
    "price = 49.95\n",
    "myorder = \"I want to pay {2} dollars for {0} pieces of item {1}.\"\n",
    "print(myorder.format(quantity, itemno, price))"
   ]
  },
  {
   "cell_type": "code",
   "execution_count": 4,
   "id": "25928fcd",
   "metadata": {},
   "outputs": [
    {
     "name": "stdout",
     "output_type": "stream",
     "text": [
      "I want 3 pieces of item 567 for 49.95 dollars.\n"
     ]
    }
   ],
   "source": [
    "quantity = 3\n",
    "itemno = 567\n",
    "price = 49.95\n",
    "myorder = \"I want {} pieces of item {} for {} dollars.\"\n",
    "print(myorder.format(quantity, itemno,price))"
   ]
  },
  {
   "cell_type": "code",
   "execution_count": null,
   "id": "f8da1e26",
   "metadata": {},
   "outputs": [],
   "source": []
  }
 ],
 "metadata": {
  "kernelspec": {
   "display_name": "Python 3 (ipykernel)",
   "language": "python",
   "name": "python3"
  },
  "language_info": {
   "codemirror_mode": {
    "name": "ipython",
    "version": 3
   },
   "file_extension": ".py",
   "mimetype": "text/x-python",
   "name": "python",
   "nbconvert_exporter": "python",
   "pygments_lexer": "ipython3",
   "version": "3.9.13"
  }
 },
 "nbformat": 4,
 "nbformat_minor": 5
}
