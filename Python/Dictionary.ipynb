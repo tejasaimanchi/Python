{
 "cells": [
  {
   "cell_type": "code",
   "execution_count": 2,
   "id": "5d37e85e",
   "metadata": {},
   "outputs": [
    {
     "name": "stdout",
     "output_type": "stream",
     "text": [
      "{'name': 'teja', 'course': 'dbda', 'marks': 80}\n"
     ]
    }
   ],
   "source": [
    "#Defining Dictionaries\n",
    "student={\"name\":\"teja\",\"course\":\"dbda\",\"marks\":80}\n",
    "print(student)\n"
   ]
  },
  {
   "cell_type": "code",
   "execution_count": 3,
   "id": "d8e83903",
   "metadata": {},
   "outputs": [
    {
     "name": "stdout",
     "output_type": "stream",
     "text": [
      "{'name': 'teja', 'course': 'dbda', 'marks': 90}\n"
     ]
    }
   ],
   "source": [
    "#Duplicate values will overwrite existing values:\n",
    "student={\"name\":\"teja\",\"course\":\"dbda\",\"marks\":80,\"marks\":90}\n",
    "print(student)"
   ]
  },
  {
   "cell_type": "code",
   "execution_count": 8,
   "id": "cba37017",
   "metadata": {},
   "outputs": [
    {
     "name": "stdout",
     "output_type": "stream",
     "text": [
      "{'name': 'teja', 'course': 'dbda', 'marks': 90, 'color': ['red', 'white', 'blue']}\n",
      "teja\n",
      "4\n",
      "<class 'str'>\n"
     ]
    }
   ],
   "source": [
    "#Dictionary Length\n",
    "student={\"name\":\"teja\",\"course\":\"dbda\",\"marks\":80,\"marks\":90,\"color\":[\"red\",'white',\"blue\"]}\n",
    "print(student)\n",
    "print(student[\"name\"])\n",
    "print(len(student))\n",
    "print(type(\"name\"))"
   ]
  },
  {
   "cell_type": "code",
   "execution_count": 9,
   "id": "a879e18a",
   "metadata": {},
   "outputs": [
    {
     "name": "stdout",
     "output_type": "stream",
     "text": [
      "{'name': 'John', 'age': 36, 'country': 'Norway'}\n"
     ]
    }
   ],
   "source": [
    "thisdict = dict(name = \"John\", age = 36, country = \"Norway\")\n",
    "print(thisdict)"
   ]
  },
  {
   "cell_type": "code",
   "execution_count": 11,
   "id": "23fa01bd",
   "metadata": {},
   "outputs": [
    {
     "name": "stdout",
     "output_type": "stream",
     "text": [
      "dict_keys(['name', 'course', 'marks']) dict_values(['teja', 'dbda', 80])\n"
     ]
    }
   ],
   "source": [
    "#Accessing Items get keys and values\n",
    "student={\"name\":\"teja\",\"course\":\"dbda\",\"marks\":80}\n",
    "x=student.keys()\n",
    "y=student.values()\n",
    "print(x,y)\n"
   ]
  },
  {
   "cell_type": "code",
   "execution_count": 18,
   "id": "f4874854",
   "metadata": {},
   "outputs": [
    {
     "name": "stdout",
     "output_type": "stream",
     "text": [
      "dbda\n",
      "dbda\n"
     ]
    }
   ],
   "source": [
    "student={\"name\":\"teja\",\"course\":\"dbda\",\"marks\":80}\n",
    "x=student[\"course\"]\n",
    "print(x)\n",
    "print(student.get(\"course\"))"
   ]
  },
  {
   "cell_type": "code",
   "execution_count": 19,
   "id": "b2b263fd",
   "metadata": {},
   "outputs": [
    {
     "name": "stdout",
     "output_type": "stream",
     "text": [
      "{'name': 'teja', 'course': 'dbda', 'marks': 80, 'age': 21}\n"
     ]
    }
   ],
   "source": [
    "#Modifying Dictionaries-Add a new item to the original dictionary\n",
    "student={\"name\":\"teja\",\"course\":\"dbda\",\"marks\":80}\n",
    "student[\"age\"]=21\n",
    "print(student)"
   ]
  },
  {
   "cell_type": "code",
   "execution_count": 21,
   "id": "6a228f4c",
   "metadata": {},
   "outputs": [
    {
     "name": "stdout",
     "output_type": "stream",
     "text": [
      "dict_keys(['name', 'course', 'marks', 'age']) dict_values(['teja', 'dbda', 80, 21])\n"
     ]
    }
   ],
   "source": [
    "student={\"name\":\"teja\",\"course\":\"dbda\",\"marks\":80}\n",
    "x=student.keys()\n",
    "y=student.values()\n",
    "student[\"age\"]=21\n",
    "print(x,y)"
   ]
  },
  {
   "cell_type": "code",
   "execution_count": 23,
   "id": "95e40fc3",
   "metadata": {},
   "outputs": [
    {
     "name": "stdout",
     "output_type": "stream",
     "text": [
      "dict_items([('name', 'teja'), ('course', 'dbda'), ('marks', 80)])\n"
     ]
    }
   ],
   "source": [
    "student={\"name\":\"teja\",\"course\":\"dbda\",\"marks\":80}\n",
    "x=student.items()\n",
    "print(x)"
   ]
  },
  {
   "cell_type": "code",
   "execution_count": 24,
   "id": "63ee8a31",
   "metadata": {},
   "outputs": [
    {
     "name": "stdout",
     "output_type": "stream",
     "text": [
      "yes 'name' is in student\n"
     ]
    }
   ],
   "source": [
    "#Check if Key Exists\n",
    "student={\"name\":\"teja\",\"course\":\"dbda\",\"marks\":80}\n",
    "if \"name\" in student:\n",
    "    print(\"yes 'name' is in student\")\n"
   ]
  },
  {
   "cell_type": "code",
   "execution_count": 26,
   "id": "89ce8a43",
   "metadata": {},
   "outputs": [
    {
     "name": "stdout",
     "output_type": "stream",
     "text": [
      "{'name': 'teja', 'marks': 80}\n",
      "{'name': 'teja'}\n"
     ]
    }
   ],
   "source": [
    "#Deleting Items from Dictionaries\n",
    "student={\"name\":\"teja\",\"course\":\"dbda\",\"marks\":80}\n",
    "student.pop(\"course\")\n",
    "print(student)\n",
    "student.popitem()\n",
    "print(student)"
   ]
  },
  {
   "cell_type": "code",
   "execution_count": 27,
   "id": "f78a4aeb",
   "metadata": {},
   "outputs": [
    {
     "name": "stdout",
     "output_type": "stream",
     "text": [
      "{'course': 'dbda', 'marks': 80}\n"
     ]
    }
   ],
   "source": [
    "student={\"name\":\"teja\",\"course\":\"dbda\",\"marks\":80}\n",
    "del student[\"name\"]\n",
    "print(student)"
   ]
  },
  {
   "cell_type": "code",
   "execution_count": 28,
   "id": "697de262",
   "metadata": {},
   "outputs": [
    {
     "ename": "NameError",
     "evalue": "name 'student' is not defined",
     "output_type": "error",
     "traceback": [
      "\u001b[1;31m---------------------------------------------------------------------------\u001b[0m",
      "\u001b[1;31mNameError\u001b[0m                                 Traceback (most recent call last)",
      "\u001b[1;32m~\\AppData\\Local\\Temp\\ipykernel_4848\\1956863628.py\u001b[0m in \u001b[0;36m<module>\u001b[1;34m\u001b[0m\n\u001b[0;32m      1\u001b[0m \u001b[0mstudent\u001b[0m\u001b[1;33m=\u001b[0m\u001b[1;33m{\u001b[0m\u001b[1;34m\"name\"\u001b[0m\u001b[1;33m:\u001b[0m\u001b[1;34m\"teja\"\u001b[0m\u001b[1;33m,\u001b[0m\u001b[1;34m\"course\"\u001b[0m\u001b[1;33m:\u001b[0m\u001b[1;34m\"dbda\"\u001b[0m\u001b[1;33m,\u001b[0m\u001b[1;34m\"marks\"\u001b[0m\u001b[1;33m:\u001b[0m\u001b[1;36m80\u001b[0m\u001b[1;33m}\u001b[0m\u001b[1;33m\u001b[0m\u001b[1;33m\u001b[0m\u001b[0m\n\u001b[0;32m      2\u001b[0m \u001b[1;32mdel\u001b[0m \u001b[0mstudent\u001b[0m\u001b[1;33m\u001b[0m\u001b[1;33m\u001b[0m\u001b[0m\n\u001b[1;32m----> 3\u001b[1;33m \u001b[0mprint\u001b[0m\u001b[1;33m(\u001b[0m\u001b[0mstudent\u001b[0m\u001b[1;33m)\u001b[0m\u001b[1;33m\u001b[0m\u001b[1;33m\u001b[0m\u001b[0m\n\u001b[0m",
      "\u001b[1;31mNameError\u001b[0m: name 'student' is not defined"
     ]
    }
   ],
   "source": [
    "student={\"name\":\"teja\",\"course\":\"dbda\",\"marks\":80}\n",
    "del student\n",
    "print(student)"
   ]
  },
  {
   "cell_type": "code",
   "execution_count": 29,
   "id": "c916aca6",
   "metadata": {},
   "outputs": [
    {
     "name": "stdout",
     "output_type": "stream",
     "text": [
      "{}\n"
     ]
    }
   ],
   "source": [
    "student={\"name\":\"teja\",\"course\":\"dbda\",\"marks\":80}\n",
    "student.clear()\n",
    "print(student)"
   ]
  },
  {
   "cell_type": "code",
   "execution_count": null,
   "id": "67ea3879",
   "metadata": {},
   "outputs": [],
   "source": []
  }
 ],
 "metadata": {
  "kernelspec": {
   "display_name": "Python 3 (ipykernel)",
   "language": "python",
   "name": "python3"
  },
  "language_info": {
   "codemirror_mode": {
    "name": "ipython",
    "version": 3
   },
   "file_extension": ".py",
   "mimetype": "text/x-python",
   "name": "python",
   "nbconvert_exporter": "python",
   "pygments_lexer": "ipython3",
   "version": "3.9.13"
  }
 },
 "nbformat": 4,
 "nbformat_minor": 5
}
